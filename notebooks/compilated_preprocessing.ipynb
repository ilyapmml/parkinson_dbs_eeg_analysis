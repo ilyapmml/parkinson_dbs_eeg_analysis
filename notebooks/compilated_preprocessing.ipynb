{
 "cells": [
  {
   "cell_type": "markdown",
   "id": "8509a29f-8049-4dd6-95a3-191b5f0c7b06",
   "metadata": {},
   "source": [
    "There is short annotation on English at the beginning, but below there are explanations only in Russian."
   ]
  },
  {
   "cell_type": "markdown",
   "id": "00beb1bf-bba2-45ef-a537-2f01a8d88858",
   "metadata": {},
   "source": [
    "**EEG/DBS data preprocessing**\n",
    "\n",
    "This notebook preprocesses EEG and Deep Brain Stimulation (DBS) data from Parkinson's disease patients to prepare it for coherence analysis between motor cortex and subthalamic nucleus (STN) signals. The pipeline loads raw data, applies filtering and resampling, averages STN channels, computes differential motor channels, calculates coherence, and estimates power spectral density (PSD).\n",
    "\n",
    "The code is kept in `.ipynb` format for clarity and demonstration. You can extract functions into a `.py` file. I use `.ipynb` for ease of use and visualization.\n",
    "\n",
    "\n",
    "**Загрузка и предобработка данных ЭЭГ/DBS**\n",
    "\n",
    "Этот ноутбук предназначен для загрузки и предварительной обработки данных, полученных у пациентов с болезнью Паркинсона, которые прошли опреацию по установке системы глубинной стимуляции мозга (DBS). Пайплан включает загрузку сырых данных с ЭЭГ и с DBS в виде файлов `.fif`, фильтрацию и передискретизацию, вычисление дифференциальных каналов, после чего на нужных каналах вычисляется когерентность и спектральная плотность мощности.\n",
    "\n",
    "Код сохранён в формате `.ipynb` для удобства визуализации и быстрого получения результатов.  При необходимости его можно переписать в `.py` формате."
   ]
  },
  {
   "cell_type": "code",
   "execution_count": 1,
   "id": "bf7a345a-4fcd-4dc9-a06c-ed03af0e11ae",
   "metadata": {},
   "outputs": [],
   "source": [
    "# Загрузка библиотек и определение путей к файлам\n",
    "\n",
    "import numpy as np\n",
    "import pandas as pd\n",
    "import os\n",
    "from pathlib import Path\n",
    "import mne\n",
    "from mne_connectivity import spectral_connectivity_time\n",
    "import matplotlib.pyplot as plt\n",
    "import gc\n",
    "from collections import defaultdict\n",
    "\n",
    "# Пути к файлам\n",
    "\n",
    "RAW_DATA_PATH = Path('C:/Users/ilya/Documents/lab/coherence/DATA_for_coherence')  # Папка с сырыми .fif файлами\n",
    "\n",
    "new_data = Path('C:/Users/ilya/Documents/lab/coherence/compilated_code/new_data')  # Папка для предобработанных данных\n",
    "new_coher = Path('C:/Users/ilya/Documents/lab/coherence/compilated_code/new_coher')  # Папка для результатов когерентности\n",
    "new_psd = Path('C:/Users/ilya/Documents/lab/coherence/compilated_code/new_psd')  # Папка для результатов PSD\n",
    "\n",
    "# Константы, используемые далее в коде\n",
    "FREQS = np.arange(1, 50, 0.5)  # Диапазон частот, шаг 0.5 Гц\n",
    "SFREQ = 200  # Частота дискретизации (Гц)\n",
    "FMIN = 1\n",
    "FMAX = 50\n",
    "\n",
    "# Список необходимых каналов\n",
    "NECESSARY_CHANNELS = [\n",
    "    '1-2C_R', '1-2B_R', '1-2A_R', '1-2C_L', '1-2B_L', '1-2A_L',\n",
    "    '2C-3C_R', '2B-3B_R', '2A-3A_R', '2C-3C_L', '2B-3B_L', '2A-3A_L',\n",
    "    '4-3C_R', '4-3B_R', '4-3A_R', '4-3C_L', '4-3B_L', '4-3A_L',\n",
    "    'CZ', 'C3', 'C4'\n",
    "]\n",
    "\n",
    "# Группы каналов STN для усреднения\n",
    "AVERAGING_GROUPS = {\n",
    "    '1-2_R': ['1-2C_R', '1-2B_R', '1-2A_R'],\n",
    "    '1-2_L': ['1-2C_L', '1-2B_L', '1-2A_L'],\n",
    "    '2-3_R': ['2C-3C_R', '2B-3B_R', '2A-3A_R'],\n",
    "    '2-3_L': ['2C-3C_L', '2B-3B_L', '2A-3A_L'],\n",
    "    '4-3_R': ['4-3C_R', '4-3B_R', '4-3A_R'],\n",
    "    '4-3_L': ['4-3C_L', '4-3B_L', '4-3A_L'],\n",
    "}\n",
    "\n",
    "STN_CHANNELS = ['1-2_R', '1-2_L', '2-3_R', '2-3_L', '4-3_R', '4-3_L']\n",
    "DIFFERENTIAL_MOTOR_CHANNELS = ['CZ-C3', 'CZ-C4']"
   ]
  },
  {
   "cell_type": "code",
   "execution_count": 74,
   "id": "c0a97d24-4a0a-4a0c-9b62-dfeb231f7f22",
   "metadata": {},
   "outputs": [],
   "source": [
    "def compute_coherence(df: pd.DataFrame, ch1: str, ch2: str) -> np.ndarray:\n",
    "    \"\"\"\n",
    "    Вычисление когерентности между каналами ch1 и ch2 методом multitaper.\n",
    "\n",
    "    Параметры:\n",
    "    df : pd.DataFrame\n",
    "        DataFrame с сигналами ЭЭГ и DBS\n",
    "    ch1 : str\n",
    "        Имя первого канала (например, 'CZ-C3')\n",
    "    ch2 : str\n",
    "        Имя второго канала (например, '1-2_R')\n",
    "\n",
    "    Возвращает:\n",
    "    np.ndarray\n",
    "        Значения когерентности для заданного частотного диапазона или None при ошибке\n",
    "    \"\"\"\n",
    "    try:\n",
    "        signal1 = df[ch1].values\n",
    "        signal2 = df[ch2].values\n",
    "        signals = np.array([signal1, signal2])[np.newaxis, :, :]\n",
    "        conn = spectral_connectivity_time(\n",
    "            data=signals,\n",
    "            freqs=FREQS,\n",
    "            sfreq=SFREQ,\n",
    "            fmin=FMIN,\n",
    "            fmax=FMAX,\n",
    "            method='coh',\n",
    "            mode='multitaper',\n",
    "            mt_bandwidth=2,\n",
    "            n_jobs=-1,\n",
    "            verbose=False\n",
    "        )\n",
    "        return conn\n",
    "    except Exception as e:\n",
    "        print(f\"Ошибка при вычислении когерентности для {ch1} и {ch2}: {e}\")\n",
    "        return None"
   ]
  },
  {
   "cell_type": "markdown",
   "id": "ef8e1f9d-2405-4763-b069-a6e0282ce0bf",
   "metadata": {},
   "source": [
    "Основной цикл обработки, который обрабатывает сырые `.fif` файлы, перечисленные в `names.txt`. Для каждого файла:\n",
    "\n",
    "1. загружаются сырые данные и выбираются нужные каналы\n",
    "2. применяется фильтр (50 Гц) и происходит передискретизация до 200 Гц\n",
    "3. усредняются каналы STN и вычисляются разностные (дифференциальные) моторные каналы\n",
    "4. предобработанные данные сохраняются в `.csv`\n",
    "5. вычисление и сохранение PSD\n",
    "6. вычисление и сохранение когерентности между моторными и STN каналами\n",
    "\n",
    "Для стабильности работы (без сбоев из-за нехватки памяти) используется `gc.collect()`."
   ]
  },
  {
   "cell_type": "code",
   "execution_count": 75,
   "id": "2d86d027-d577-4334-b1ed-4e9fb88be688",
   "metadata": {
    "collapsed": true,
    "jupyter": {
     "outputs_hidden": true
    },
    "scrolled": true
   },
   "outputs": [
    {
     "name": "stderr",
     "output_type": "stream",
     "text": [
      "C:\\Users\\ilya\\AppData\\Local\\Temp\\ipykernel_7476\\3943036217.py:8: RuntimeWarning: This filename (C:\\Users\\ilya\\Documents\\lab\\coherence\\DATA_for_coherence\\Akhmetshin_ON_1_eyes_closed_marked_bip.fif) does not conform to MNE naming conventions. All raw files should end with raw.fif, raw_sss.fif, raw_tsss.fif, _meg.fif, _eeg.fif, _ieeg.fif, raw.fif.gz, raw_sss.fif.gz, raw_tsss.fif.gz, _meg.fif.gz, _eeg.fif.gz or _ieeg.fif.gz\n",
      "  raw = mne.io.read_raw_fif(name, preload=True, verbose=False)\n"
     ]
    },
    {
     "name": "stdout",
     "output_type": "stream",
     "text": [
      "Setting 11224 of 73641 (15.24%) samples to NaN, retaining 62417 (84.76%) samples.\n",
      "Effective window size : 4.000 (s)\n",
      "At least one good data span is shorter than n_per_seg, and will be analyzed with a shorter window than the rest of the file.\n"
     ]
    },
    {
     "name": "stderr",
     "output_type": "stream",
     "text": [
      "C:\\Users\\ilya\\AppData\\Local\\Temp\\ipykernel_7476\\3943036217.py:8: RuntimeWarning: This filename (C:\\Users\\ilya\\Documents\\lab\\coherence\\DATA_for_coherence\\Akhmetshin_ON_1_eyes_opened_marked_bip.fif) does not conform to MNE naming conventions. All raw files should end with raw.fif, raw_sss.fif, raw_tsss.fif, _meg.fif, _eeg.fif, _ieeg.fif, raw.fif.gz, raw_sss.fif.gz, raw_tsss.fif.gz, _meg.fif.gz, _eeg.fif.gz or _ieeg.fif.gz\n",
      "  raw = mne.io.read_raw_fif(name, preload=True, verbose=False)\n"
     ]
    },
    {
     "name": "stdout",
     "output_type": "stream",
     "text": [
      "Setting 1910 of 59181 (3.23%) samples to NaN, retaining 57271 (96.77%) samples.\n",
      "Effective window size : 4.000 (s)\n"
     ]
    },
    {
     "name": "stderr",
     "output_type": "stream",
     "text": [
      "C:\\Users\\ilya\\AppData\\Local\\Temp\\ipykernel_7476\\3943036217.py:8: RuntimeWarning: This filename (C:\\Users\\ilya\\Documents\\lab\\coherence\\DATA_for_coherence\\Akhmetshin_ON_5_eyes_closed_marked_bip.fif) does not conform to MNE naming conventions. All raw files should end with raw.fif, raw_sss.fif, raw_tsss.fif, _meg.fif, _eeg.fif, _ieeg.fif, raw.fif.gz, raw_sss.fif.gz, raw_tsss.fif.gz, _meg.fif.gz, _eeg.fif.gz or _ieeg.fif.gz\n",
      "  raw = mne.io.read_raw_fif(name, preload=True, verbose=False)\n"
     ]
    },
    {
     "name": "stdout",
     "output_type": "stream",
     "text": [
      "Setting 19766 of 64116 (30.83%) samples to NaN, retaining 44350 (69.17%) samples.\n",
      "Effective window size : 4.000 (s)\n",
      "At least one good data span is shorter than n_per_seg, and will be analyzed with a shorter window than the rest of the file.\n"
     ]
    },
    {
     "name": "stderr",
     "output_type": "stream",
     "text": [
      "C:\\Users\\ilya\\AppData\\Local\\Temp\\ipykernel_7476\\3943036217.py:8: RuntimeWarning: This filename (C:\\Users\\ilya\\Documents\\lab\\coherence\\DATA_for_coherence\\Akhmetshin_ON_5_eyes_opened_marked_bip.fif) does not conform to MNE naming conventions. All raw files should end with raw.fif, raw_sss.fif, raw_tsss.fif, _meg.fif, _eeg.fif, _ieeg.fif, raw.fif.gz, raw_sss.fif.gz, raw_tsss.fif.gz, _meg.fif.gz, _eeg.fif.gz or _ieeg.fif.gz\n",
      "  raw = mne.io.read_raw_fif(name, preload=True, verbose=False)\n"
     ]
    },
    {
     "name": "stdout",
     "output_type": "stream",
     "text": [
      "Setting 30040 of 60181 (49.92%) samples to NaN, retaining 30141 (50.08%) samples.\n",
      "Effective window size : 4.000 (s)\n",
      "At least one good data span is shorter than n_per_seg, and will be analyzed with a shorter window than the rest of the file.\n"
     ]
    },
    {
     "name": "stderr",
     "output_type": "stream",
     "text": [
      "C:\\Users\\ilya\\AppData\\Local\\Temp\\ipykernel_7476\\3943036217.py:8: RuntimeWarning: This filename (C:\\Users\\ilya\\Documents\\lab\\coherence\\DATA_for_coherence\\Basova_OFF_1_eyes_closed_marked_bip.fif) does not conform to MNE naming conventions. All raw files should end with raw.fif, raw_sss.fif, raw_tsss.fif, _meg.fif, _eeg.fif, _ieeg.fif, raw.fif.gz, raw_sss.fif.gz, raw_tsss.fif.gz, _meg.fif.gz, _eeg.fif.gz or _ieeg.fif.gz\n",
      "  raw = mne.io.read_raw_fif(name, preload=True, verbose=False)\n"
     ]
    },
    {
     "name": "stdout",
     "output_type": "stream",
     "text": [
      "Setting 1284 of 65666 (1.96%) samples to NaN, retaining 64382 (98.04%) samples.\n",
      "Effective window size : 4.000 (s)\n",
      "At least one good data span is shorter than n_per_seg, and will be analyzed with a shorter window than the rest of the file.\n"
     ]
    },
    {
     "name": "stderr",
     "output_type": "stream",
     "text": [
      "C:\\Users\\ilya\\AppData\\Local\\Temp\\ipykernel_7476\\3943036217.py:8: RuntimeWarning: This filename (C:\\Users\\ilya\\Documents\\lab\\coherence\\DATA_for_coherence\\Basova_OFF_1_eyes_opened_marked_bip.fif) does not conform to MNE naming conventions. All raw files should end with raw.fif, raw_sss.fif, raw_tsss.fif, _meg.fif, _eeg.fif, _ieeg.fif, raw.fif.gz, raw_sss.fif.gz, raw_tsss.fif.gz, _meg.fif.gz, _eeg.fif.gz or _ieeg.fif.gz\n",
      "  raw = mne.io.read_raw_fif(name, preload=True, verbose=False)\n"
     ]
    },
    {
     "name": "stdout",
     "output_type": "stream",
     "text": [
      "Setting 2908 of 67171 (4.33%) samples to NaN, retaining 64263 (95.67%) samples.\n",
      "Effective window size : 4.000 (s)\n"
     ]
    },
    {
     "name": "stderr",
     "output_type": "stream",
     "text": [
      "C:\\Users\\ilya\\AppData\\Local\\Temp\\ipykernel_7476\\3943036217.py:8: RuntimeWarning: This filename (C:\\Users\\ilya\\Documents\\lab\\coherence\\DATA_for_coherence\\Basova_OFF_5_eyes_closed_marked_bip.fif) does not conform to MNE naming conventions. All raw files should end with raw.fif, raw_sss.fif, raw_tsss.fif, _meg.fif, _eeg.fif, _ieeg.fif, raw.fif.gz, raw_sss.fif.gz, raw_tsss.fif.gz, _meg.fif.gz, _eeg.fif.gz or _ieeg.fif.gz\n",
      "  raw = mne.io.read_raw_fif(name, preload=True, verbose=False)\n"
     ]
    },
    {
     "name": "stdout",
     "output_type": "stream",
     "text": [
      "Effective window size : 4.000 (s)\n"
     ]
    },
    {
     "name": "stderr",
     "output_type": "stream",
     "text": [
      "C:\\Users\\ilya\\AppData\\Local\\Temp\\ipykernel_7476\\3943036217.py:8: RuntimeWarning: This filename (C:\\Users\\ilya\\Documents\\lab\\coherence\\DATA_for_coherence\\Basova_OFF_5_eyes_opened_marked_bip.fif) does not conform to MNE naming conventions. All raw files should end with raw.fif, raw_sss.fif, raw_tsss.fif, _meg.fif, _eeg.fif, _ieeg.fif, raw.fif.gz, raw_sss.fif.gz, raw_tsss.fif.gz, _meg.fif.gz, _eeg.fif.gz or _ieeg.fif.gz\n",
      "  raw = mne.io.read_raw_fif(name, preload=True, verbose=False)\n"
     ]
    },
    {
     "name": "stdout",
     "output_type": "stream",
     "text": [
      "Setting 1982 of 72251 (2.74%) samples to NaN, retaining 70269 (97.26%) samples.\n",
      "Effective window size : 4.000 (s)\n"
     ]
    },
    {
     "name": "stderr",
     "output_type": "stream",
     "text": [
      "C:\\Users\\ilya\\AppData\\Local\\Temp\\ipykernel_7476\\3943036217.py:8: RuntimeWarning: This filename (C:\\Users\\ilya\\Documents\\lab\\coherence\\DATA_for_coherence\\Basova_ON_1_eyes_closed_marked_bip.fif) does not conform to MNE naming conventions. All raw files should end with raw.fif, raw_sss.fif, raw_tsss.fif, _meg.fif, _eeg.fif, _ieeg.fif, raw.fif.gz, raw_sss.fif.gz, raw_tsss.fif.gz, _meg.fif.gz, _eeg.fif.gz or _ieeg.fif.gz\n",
      "  raw = mne.io.read_raw_fif(name, preload=True, verbose=False)\n"
     ]
    },
    {
     "name": "stdout",
     "output_type": "stream",
     "text": [
      "Setting 6286 of 73531 (8.55%) samples to NaN, retaining 67245 (91.45%) samples.\n",
      "Effective window size : 4.000 (s)\n",
      "At least one good data span is shorter than n_per_seg, and will be analyzed with a shorter window than the rest of the file.\n"
     ]
    },
    {
     "name": "stderr",
     "output_type": "stream",
     "text": [
      "C:\\Users\\ilya\\AppData\\Local\\Temp\\ipykernel_7476\\3943036217.py:8: RuntimeWarning: This filename (C:\\Users\\ilya\\Documents\\lab\\coherence\\DATA_for_coherence\\Basova_ON_1_eyes_opened_marked_bip.fif) does not conform to MNE naming conventions. All raw files should end with raw.fif, raw_sss.fif, raw_tsss.fif, _meg.fif, _eeg.fif, _ieeg.fif, raw.fif.gz, raw_sss.fif.gz, raw_tsss.fif.gz, _meg.fif.gz, _eeg.fif.gz or _ieeg.fif.gz\n",
      "  raw = mne.io.read_raw_fif(name, preload=True, verbose=False)\n"
     ]
    },
    {
     "name": "stdout",
     "output_type": "stream",
     "text": [
      "Setting 878 of 64561 (1.36%) samples to NaN, retaining 63683 (98.64%) samples.\n",
      "Effective window size : 4.000 (s)\n"
     ]
    },
    {
     "name": "stderr",
     "output_type": "stream",
     "text": [
      "C:\\Users\\ilya\\AppData\\Local\\Temp\\ipykernel_7476\\3943036217.py:8: RuntimeWarning: This filename (C:\\Users\\ilya\\Documents\\lab\\coherence\\DATA_for_coherence\\Basova_ON_5_eyes_closed_marked_bip.fif) does not conform to MNE naming conventions. All raw files should end with raw.fif, raw_sss.fif, raw_tsss.fif, _meg.fif, _eeg.fif, _ieeg.fif, raw.fif.gz, raw_sss.fif.gz, raw_tsss.fif.gz, _meg.fif.gz, _eeg.fif.gz or _ieeg.fif.gz\n",
      "  raw = mne.io.read_raw_fif(name, preload=True, verbose=False)\n"
     ]
    },
    {
     "name": "stdout",
     "output_type": "stream",
     "text": [
      "Setting 700 of 61811 (1.13%) samples to NaN, retaining 61111 (98.87%) samples.\n",
      "Effective window size : 4.000 (s)\n"
     ]
    },
    {
     "name": "stderr",
     "output_type": "stream",
     "text": [
      "C:\\Users\\ilya\\AppData\\Local\\Temp\\ipykernel_7476\\3943036217.py:8: RuntimeWarning: This filename (C:\\Users\\ilya\\Documents\\lab\\coherence\\DATA_for_coherence\\Basova_ON_5_eyes_opened_marked_bip.fif) does not conform to MNE naming conventions. All raw files should end with raw.fif, raw_sss.fif, raw_tsss.fif, _meg.fif, _eeg.fif, _ieeg.fif, raw.fif.gz, raw_sss.fif.gz, raw_tsss.fif.gz, _meg.fif.gz, _eeg.fif.gz or _ieeg.fif.gz\n",
      "  raw = mne.io.read_raw_fif(name, preload=True, verbose=False)\n"
     ]
    },
    {
     "name": "stdout",
     "output_type": "stream",
     "text": [
      "Setting 10119 of 82171 (12.31%) samples to NaN, retaining 72052 (87.69%) samples.\n",
      "Effective window size : 4.000 (s)\n"
     ]
    },
    {
     "name": "stderr",
     "output_type": "stream",
     "text": [
      "C:\\Users\\ilya\\AppData\\Local\\Temp\\ipykernel_7476\\3943036217.py:8: RuntimeWarning: This filename (C:\\Users\\ilya\\Documents\\lab\\coherence\\DATA_for_coherence\\Boyko_OFF_1_eyes_closed_marked_bip.fif) does not conform to MNE naming conventions. All raw files should end with raw.fif, raw_sss.fif, raw_tsss.fif, _meg.fif, _eeg.fif, _ieeg.fif, raw.fif.gz, raw_sss.fif.gz, raw_tsss.fif.gz, _meg.fif.gz, _eeg.fif.gz or _ieeg.fif.gz\n",
      "  raw = mne.io.read_raw_fif(name, preload=True, verbose=False)\n"
     ]
    },
    {
     "name": "stdout",
     "output_type": "stream",
     "text": [
      "Effective window size : 4.000 (s)\n"
     ]
    },
    {
     "name": "stderr",
     "output_type": "stream",
     "text": [
      "C:\\Users\\ilya\\AppData\\Local\\Temp\\ipykernel_7476\\3943036217.py:8: RuntimeWarning: This filename (C:\\Users\\ilya\\Documents\\lab\\coherence\\DATA_for_coherence\\Boyko_OFF_1_eyes_opened_marked_bip.fif) does not conform to MNE naming conventions. All raw files should end with raw.fif, raw_sss.fif, raw_tsss.fif, _meg.fif, _eeg.fif, _ieeg.fif, raw.fif.gz, raw_sss.fif.gz, raw_tsss.fif.gz, _meg.fif.gz, _eeg.fif.gz or _ieeg.fif.gz\n",
      "  raw = mne.io.read_raw_fif(name, preload=True, verbose=False)\n"
     ]
    },
    {
     "name": "stdout",
     "output_type": "stream",
     "text": [
      "Effective window size : 4.000 (s)\n"
     ]
    },
    {
     "name": "stderr",
     "output_type": "stream",
     "text": [
      "C:\\Users\\ilya\\AppData\\Local\\Temp\\ipykernel_7476\\3943036217.py:8: RuntimeWarning: This filename (C:\\Users\\ilya\\Documents\\lab\\coherence\\DATA_for_coherence\\Boyko_OFF_5_eyes_closed_marked_bip.fif) does not conform to MNE naming conventions. All raw files should end with raw.fif, raw_sss.fif, raw_tsss.fif, _meg.fif, _eeg.fif, _ieeg.fif, raw.fif.gz, raw_sss.fif.gz, raw_tsss.fif.gz, _meg.fif.gz, _eeg.fif.gz or _ieeg.fif.gz\n",
      "  raw = mne.io.read_raw_fif(name, preload=True, verbose=False)\n"
     ]
    },
    {
     "name": "stdout",
     "output_type": "stream",
     "text": [
      "Setting 1016 of 66150 (1.54%) samples to NaN, retaining 65134 (98.46%) samples.\n",
      "Effective window size : 4.000 (s)\n"
     ]
    },
    {
     "name": "stderr",
     "output_type": "stream",
     "text": [
      "C:\\Users\\ilya\\AppData\\Local\\Temp\\ipykernel_7476\\3943036217.py:8: RuntimeWarning: This filename (C:\\Users\\ilya\\Documents\\lab\\coherence\\DATA_for_coherence\\Boyko_OFF_5_eyes_opened_marked_bip.fif) does not conform to MNE naming conventions. All raw files should end with raw.fif, raw_sss.fif, raw_tsss.fif, _meg.fif, _eeg.fif, _ieeg.fif, raw.fif.gz, raw_sss.fif.gz, raw_tsss.fif.gz, _meg.fif.gz, _eeg.fif.gz or _ieeg.fif.gz\n",
      "  raw = mne.io.read_raw_fif(name, preload=True, verbose=False)\n"
     ]
    },
    {
     "name": "stdout",
     "output_type": "stream",
     "text": [
      "Setting 7420 of 73231 (10.13%) samples to NaN, retaining 65811 (89.87%) samples.\n",
      "Effective window size : 4.000 (s)\n",
      "At least one good data span is shorter than n_per_seg, and will be analyzed with a shorter window than the rest of the file.\n"
     ]
    },
    {
     "name": "stderr",
     "output_type": "stream",
     "text": [
      "C:\\Users\\ilya\\AppData\\Local\\Temp\\ipykernel_7476\\3943036217.py:8: RuntimeWarning: This filename (C:\\Users\\ilya\\Documents\\lab\\coherence\\DATA_for_coherence\\Boyko_ON_1_eyes_closed_marked_bip.fif) does not conform to MNE naming conventions. All raw files should end with raw.fif, raw_sss.fif, raw_tsss.fif, _meg.fif, _eeg.fif, _ieeg.fif, raw.fif.gz, raw_sss.fif.gz, raw_tsss.fif.gz, _meg.fif.gz, _eeg.fif.gz or _ieeg.fif.gz\n",
      "  raw = mne.io.read_raw_fif(name, preload=True, verbose=False)\n"
     ]
    },
    {
     "name": "stdout",
     "output_type": "stream",
     "text": [
      "Setting 1284 of 56691 (2.26%) samples to NaN, retaining 55407 (97.74%) samples.\n",
      "Effective window size : 4.000 (s)\n"
     ]
    },
    {
     "name": "stderr",
     "output_type": "stream",
     "text": [
      "C:\\Users\\ilya\\AppData\\Local\\Temp\\ipykernel_7476\\3943036217.py:8: RuntimeWarning: This filename (C:\\Users\\ilya\\Documents\\lab\\coherence\\DATA_for_coherence\\Boyko_ON_1_eyes_opened_marked_bip.fif) does not conform to MNE naming conventions. All raw files should end with raw.fif, raw_sss.fif, raw_tsss.fif, _meg.fif, _eeg.fif, _ieeg.fif, raw.fif.gz, raw_sss.fif.gz, raw_tsss.fif.gz, _meg.fif.gz, _eeg.fif.gz or _ieeg.fif.gz\n",
      "  raw = mne.io.read_raw_fif(name, preload=True, verbose=False)\n"
     ]
    },
    {
     "name": "stdout",
     "output_type": "stream",
     "text": [
      "Setting 1640 of 63166 (2.60%) samples to NaN, retaining 61526 (97.40%) samples.\n",
      "Effective window size : 4.000 (s)\n"
     ]
    },
    {
     "name": "stderr",
     "output_type": "stream",
     "text": [
      "C:\\Users\\ilya\\AppData\\Local\\Temp\\ipykernel_7476\\3943036217.py:8: RuntimeWarning: This filename (C:\\Users\\ilya\\Documents\\lab\\coherence\\DATA_for_coherence\\Boyko_ON_5_eyes_closed_marked_bip.fif) does not conform to MNE naming conventions. All raw files should end with raw.fif, raw_sss.fif, raw_tsss.fif, _meg.fif, _eeg.fif, _ieeg.fif, raw.fif.gz, raw_sss.fif.gz, raw_tsss.fif.gz, _meg.fif.gz, _eeg.fif.gz or _ieeg.fif.gz\n",
      "  raw = mne.io.read_raw_fif(name, preload=True, verbose=False)\n"
     ]
    },
    {
     "name": "stdout",
     "output_type": "stream",
     "text": [
      "Effective window size : 4.000 (s)\n"
     ]
    },
    {
     "name": "stderr",
     "output_type": "stream",
     "text": [
      "C:\\Users\\ilya\\AppData\\Local\\Temp\\ipykernel_7476\\3943036217.py:8: RuntimeWarning: This filename (C:\\Users\\ilya\\Documents\\lab\\coherence\\DATA_for_coherence\\Boyko_ON_5_eyes_opened_marked_bip.fif) does not conform to MNE naming conventions. All raw files should end with raw.fif, raw_sss.fif, raw_tsss.fif, _meg.fif, _eeg.fif, _ieeg.fif, raw.fif.gz, raw_sss.fif.gz, raw_tsss.fif.gz, _meg.fif.gz, _eeg.fif.gz or _ieeg.fif.gz\n",
      "  raw = mne.io.read_raw_fif(name, preload=True, verbose=False)\n"
     ]
    },
    {
     "name": "stdout",
     "output_type": "stream",
     "text": [
      "Setting 7448 of 60886 (12.23%) samples to NaN, retaining 53438 (87.77%) samples.\n",
      "Effective window size : 4.000 (s)\n",
      "At least one good data span is shorter than n_per_seg, and will be analyzed with a shorter window than the rest of the file.\n"
     ]
    },
    {
     "name": "stderr",
     "output_type": "stream",
     "text": [
      "C:\\Users\\ilya\\AppData\\Local\\Temp\\ipykernel_7476\\3943036217.py:8: RuntimeWarning: This filename (C:\\Users\\ilya\\Documents\\lab\\coherence\\DATA_for_coherence\\Gadjieva_OFF_1_eyes_closed_marked_bip.fif) does not conform to MNE naming conventions. All raw files should end with raw.fif, raw_sss.fif, raw_tsss.fif, _meg.fif, _eeg.fif, _ieeg.fif, raw.fif.gz, raw_sss.fif.gz, raw_tsss.fif.gz, _meg.fif.gz, _eeg.fif.gz or _ieeg.fif.gz\n",
      "  raw = mne.io.read_raw_fif(name, preload=True, verbose=False)\n"
     ]
    },
    {
     "name": "stdout",
     "output_type": "stream",
     "text": [
      "Setting 9420 of 62406 (15.09%) samples to NaN, retaining 52986 (84.91%) samples.\n",
      "Effective window size : 4.000 (s)\n"
     ]
    },
    {
     "name": "stderr",
     "output_type": "stream",
     "text": [
      "C:\\Users\\ilya\\AppData\\Local\\Temp\\ipykernel_7476\\3943036217.py:8: RuntimeWarning: This filename (C:\\Users\\ilya\\Documents\\lab\\coherence\\DATA_for_coherence\\Gadjieva_OFF_1_eyes_opened_marked_bip.fif) does not conform to MNE naming conventions. All raw files should end with raw.fif, raw_sss.fif, raw_tsss.fif, _meg.fif, _eeg.fif, _ieeg.fif, raw.fif.gz, raw_sss.fif.gz, raw_tsss.fif.gz, _meg.fif.gz, _eeg.fif.gz or _ieeg.fif.gz\n",
      "  raw = mne.io.read_raw_fif(name, preload=True, verbose=False)\n"
     ]
    },
    {
     "name": "stdout",
     "output_type": "stream",
     "text": [
      "Setting 27670 of 85386 (32.41%) samples to NaN, retaining 57716 (67.59%) samples.\n",
      "Effective window size : 4.000 (s)\n",
      "At least one good data span is shorter than n_per_seg, and will be analyzed with a shorter window than the rest of the file.\n"
     ]
    },
    {
     "name": "stderr",
     "output_type": "stream",
     "text": [
      "C:\\Users\\ilya\\AppData\\Local\\Temp\\ipykernel_7476\\3943036217.py:8: RuntimeWarning: This filename (C:\\Users\\ilya\\Documents\\lab\\coherence\\DATA_for_coherence\\Gadjieva_ON_1_eyes_closed_marked_bip.fif) does not conform to MNE naming conventions. All raw files should end with raw.fif, raw_sss.fif, raw_tsss.fif, _meg.fif, _eeg.fif, _ieeg.fif, raw.fif.gz, raw_sss.fif.gz, raw_tsss.fif.gz, _meg.fif.gz, _eeg.fif.gz or _ieeg.fif.gz\n",
      "  raw = mne.io.read_raw_fif(name, preload=True, verbose=False)\n"
     ]
    },
    {
     "name": "stdout",
     "output_type": "stream",
     "text": [
      "Setting 5546 of 66561 (8.33%) samples to NaN, retaining 61015 (91.67%) samples.\n",
      "Effective window size : 4.000 (s)\n",
      "At least one good data span is shorter than n_per_seg, and will be analyzed with a shorter window than the rest of the file.\n"
     ]
    },
    {
     "name": "stderr",
     "output_type": "stream",
     "text": [
      "C:\\Users\\ilya\\AppData\\Local\\Temp\\ipykernel_7476\\3943036217.py:8: RuntimeWarning: This filename (C:\\Users\\ilya\\Documents\\lab\\coherence\\DATA_for_coherence\\Gadjieva_ON_1_eyes_opened_marked_bip.fif) does not conform to MNE naming conventions. All raw files should end with raw.fif, raw_sss.fif, raw_tsss.fif, _meg.fif, _eeg.fif, _ieeg.fif, raw.fif.gz, raw_sss.fif.gz, raw_tsss.fif.gz, _meg.fif.gz, _eeg.fif.gz or _ieeg.fif.gz\n",
      "  raw = mne.io.read_raw_fif(name, preload=True, verbose=False)\n"
     ]
    },
    {
     "name": "stdout",
     "output_type": "stream",
     "text": [
      "Setting 31730 of 59186 (53.61%) samples to NaN, retaining 27456 (46.39%) samples.\n",
      "Effective window size : 4.000 (s)\n",
      "At least one good data span is shorter than n_per_seg, and will be analyzed with a shorter window than the rest of the file.\n"
     ]
    },
    {
     "name": "stderr",
     "output_type": "stream",
     "text": [
      "C:\\Users\\ilya\\AppData\\Local\\Temp\\ipykernel_7476\\3943036217.py:8: RuntimeWarning: This filename (C:\\Users\\ilya\\Documents\\lab\\coherence\\DATA_for_coherence\\Gavrilina_OFF_1_eyes_not_clear_marked_bip.fif) does not conform to MNE naming conventions. All raw files should end with raw.fif, raw_sss.fif, raw_tsss.fif, _meg.fif, _eeg.fif, _ieeg.fif, raw.fif.gz, raw_sss.fif.gz, raw_tsss.fif.gz, _meg.fif.gz, _eeg.fif.gz or _ieeg.fif.gz\n",
      "  raw = mne.io.read_raw_fif(name, preload=True, verbose=False)\n"
     ]
    },
    {
     "name": "stdout",
     "output_type": "stream",
     "text": [
      "Setting 64 of 62811 (0.10%) samples to NaN, retaining 62747 (99.90%) samples.\n",
      "Effective window size : 4.000 (s)\n"
     ]
    },
    {
     "name": "stderr",
     "output_type": "stream",
     "text": [
      "C:\\Users\\ilya\\AppData\\Local\\Temp\\ipykernel_7476\\3943036217.py:8: RuntimeWarning: This filename (C:\\Users\\ilya\\Documents\\lab\\coherence\\DATA_for_coherence\\Gavrilina_OFF_5_eyes_not_clear_marked_bip.fif) does not conform to MNE naming conventions. All raw files should end with raw.fif, raw_sss.fif, raw_tsss.fif, _meg.fif, _eeg.fif, _ieeg.fif, raw.fif.gz, raw_sss.fif.gz, raw_tsss.fif.gz, _meg.fif.gz, _eeg.fif.gz or _ieeg.fif.gz\n",
      "  raw = mne.io.read_raw_fif(name, preload=True, verbose=False)\n"
     ]
    },
    {
     "name": "stdout",
     "output_type": "stream",
     "text": [
      "Effective window size : 4.000 (s)\n"
     ]
    },
    {
     "name": "stderr",
     "output_type": "stream",
     "text": [
      "C:\\Users\\ilya\\AppData\\Local\\Temp\\ipykernel_7476\\3943036217.py:8: RuntimeWarning: This filename (C:\\Users\\ilya\\Documents\\lab\\coherence\\DATA_for_coherence\\Gavrilina_ON_1_eyes_not_clear_marked_bip.fif) does not conform to MNE naming conventions. All raw files should end with raw.fif, raw_sss.fif, raw_tsss.fif, _meg.fif, _eeg.fif, _ieeg.fif, raw.fif.gz, raw_sss.fif.gz, raw_tsss.fif.gz, _meg.fif.gz, _eeg.fif.gz or _ieeg.fif.gz\n",
      "  raw = mne.io.read_raw_fif(name, preload=True, verbose=False)\n"
     ]
    },
    {
     "name": "stdout",
     "output_type": "stream",
     "text": [
      "Setting 14068 of 36540 (38.50%) samples to NaN, retaining 22472 (61.50%) samples.\n",
      "Effective window size : 4.000 (s)\n",
      "At least one good data span is shorter than n_per_seg, and will be analyzed with a shorter window than the rest of the file.\n"
     ]
    },
    {
     "name": "stderr",
     "output_type": "stream",
     "text": [
      "C:\\Users\\ilya\\AppData\\Local\\Temp\\ipykernel_7476\\3943036217.py:8: RuntimeWarning: This filename (C:\\Users\\ilya\\Documents\\lab\\coherence\\DATA_for_coherence\\Gavrilina_ON_5_eyes_not_clear_marked_bip.fif) does not conform to MNE naming conventions. All raw files should end with raw.fif, raw_sss.fif, raw_tsss.fif, _meg.fif, _eeg.fif, _ieeg.fif, raw.fif.gz, raw_sss.fif.gz, raw_tsss.fif.gz, _meg.fif.gz, _eeg.fif.gz or _ieeg.fif.gz\n",
      "  raw = mne.io.read_raw_fif(name, preload=True, verbose=False)\n"
     ]
    },
    {
     "name": "stdout",
     "output_type": "stream",
     "text": [
      "Effective window size : 4.000 (s)\n"
     ]
    },
    {
     "name": "stderr",
     "output_type": "stream",
     "text": [
      "C:\\Users\\ilya\\AppData\\Local\\Temp\\ipykernel_7476\\3943036217.py:8: RuntimeWarning: This filename (C:\\Users\\ilya\\Documents\\lab\\coherence\\DATA_for_coherence\\Kamalova_OFF_1_eyes_not_clear_marked_bip.fif) does not conform to MNE naming conventions. All raw files should end with raw.fif, raw_sss.fif, raw_tsss.fif, _meg.fif, _eeg.fif, _ieeg.fif, raw.fif.gz, raw_sss.fif.gz, raw_tsss.fif.gz, _meg.fif.gz, _eeg.fif.gz or _ieeg.fif.gz\n",
      "  raw = mne.io.read_raw_fif(name, preload=True, verbose=False)\n"
     ]
    },
    {
     "name": "stdout",
     "output_type": "stream",
     "text": [
      "Effective window size : 4.000 (s)\n"
     ]
    },
    {
     "name": "stderr",
     "output_type": "stream",
     "text": [
      "C:\\Users\\ilya\\AppData\\Local\\Temp\\ipykernel_7476\\3943036217.py:8: RuntimeWarning: This filename (C:\\Users\\ilya\\Documents\\lab\\coherence\\DATA_for_coherence\\Kamalova_OFF_5_eyes_not_clear_marked_bip.fif) does not conform to MNE naming conventions. All raw files should end with raw.fif, raw_sss.fif, raw_tsss.fif, _meg.fif, _eeg.fif, _ieeg.fif, raw.fif.gz, raw_sss.fif.gz, raw_tsss.fif.gz, _meg.fif.gz, _eeg.fif.gz or _ieeg.fif.gz\n",
      "  raw = mne.io.read_raw_fif(name, preload=True, verbose=False)\n"
     ]
    },
    {
     "name": "stdout",
     "output_type": "stream",
     "text": [
      "Setting 28 of 58541 (0.05%) samples to NaN, retaining 58513 (99.95%) samples.\n",
      "Effective window size : 4.000 (s)\n"
     ]
    },
    {
     "name": "stderr",
     "output_type": "stream",
     "text": [
      "C:\\Users\\ilya\\AppData\\Local\\Temp\\ipykernel_7476\\3943036217.py:8: RuntimeWarning: This filename (C:\\Users\\ilya\\Documents\\lab\\coherence\\DATA_for_coherence\\Kamalova_ON_1_eyes_not_clear_marked_bip.fif) does not conform to MNE naming conventions. All raw files should end with raw.fif, raw_sss.fif, raw_tsss.fif, _meg.fif, _eeg.fif, _ieeg.fif, raw.fif.gz, raw_sss.fif.gz, raw_tsss.fif.gz, _meg.fif.gz, _eeg.fif.gz or _ieeg.fif.gz\n",
      "  raw = mne.io.read_raw_fif(name, preload=True, verbose=False)\n"
     ]
    },
    {
     "name": "stdout",
     "output_type": "stream",
     "text": [
      "Setting 918 of 57600 (1.59%) samples to NaN, retaining 56682 (98.41%) samples.\n",
      "Effective window size : 4.000 (s)\n",
      "At least one good data span is shorter than n_per_seg, and will be analyzed with a shorter window than the rest of the file.\n"
     ]
    },
    {
     "name": "stderr",
     "output_type": "stream",
     "text": [
      "C:\\Users\\ilya\\AppData\\Local\\Temp\\ipykernel_7476\\3943036217.py:8: RuntimeWarning: This filename (C:\\Users\\ilya\\Documents\\lab\\coherence\\DATA_for_coherence\\Kamalova_ON_5_eyes_not_clear_marked_bip.fif) does not conform to MNE naming conventions. All raw files should end with raw.fif, raw_sss.fif, raw_tsss.fif, _meg.fif, _eeg.fif, _ieeg.fif, raw.fif.gz, raw_sss.fif.gz, raw_tsss.fif.gz, _meg.fif.gz, _eeg.fif.gz or _ieeg.fif.gz\n",
      "  raw = mne.io.read_raw_fif(name, preload=True, verbose=False)\n"
     ]
    },
    {
     "name": "stdout",
     "output_type": "stream",
     "text": [
      "Setting 13718 of 58402 (23.49%) samples to NaN, retaining 44684 (76.51%) samples.\n",
      "Effective window size : 4.000 (s)\n",
      "At least one good data span is shorter than n_per_seg, and will be analyzed with a shorter window than the rest of the file.\n"
     ]
    },
    {
     "name": "stderr",
     "output_type": "stream",
     "text": [
      "C:\\Users\\ilya\\AppData\\Local\\Temp\\ipykernel_7476\\3943036217.py:8: RuntimeWarning: This filename (C:\\Users\\ilya\\Documents\\lab\\coherence\\DATA_for_coherence\\Kanevets_OFF_1_eyes_closed_marked_bip.fif) does not conform to MNE naming conventions. All raw files should end with raw.fif, raw_sss.fif, raw_tsss.fif, _meg.fif, _eeg.fif, _ieeg.fif, raw.fif.gz, raw_sss.fif.gz, raw_tsss.fif.gz, _meg.fif.gz, _eeg.fif.gz or _ieeg.fif.gz\n",
      "  raw = mne.io.read_raw_fif(name, preload=True, verbose=False)\n"
     ]
    },
    {
     "name": "stdout",
     "output_type": "stream",
     "text": [
      "Setting 2256 of 58336 (3.87%) samples to NaN, retaining 56080 (96.13%) samples.\n",
      "Effective window size : 4.000 (s)\n"
     ]
    },
    {
     "name": "stderr",
     "output_type": "stream",
     "text": [
      "C:\\Users\\ilya\\AppData\\Local\\Temp\\ipykernel_7476\\3943036217.py:8: RuntimeWarning: This filename (C:\\Users\\ilya\\Documents\\lab\\coherence\\DATA_for_coherence\\Kanevets_OFF_1_eyes_opened_marked_bip.fif) does not conform to MNE naming conventions. All raw files should end with raw.fif, raw_sss.fif, raw_tsss.fif, _meg.fif, _eeg.fif, _ieeg.fif, raw.fif.gz, raw_sss.fif.gz, raw_tsss.fif.gz, _meg.fif.gz, _eeg.fif.gz or _ieeg.fif.gz\n",
      "  raw = mne.io.read_raw_fif(name, preload=True, verbose=False)\n"
     ]
    },
    {
     "name": "stdout",
     "output_type": "stream",
     "text": [
      "Setting 6736 of 60416 (11.15%) samples to NaN, retaining 53680 (88.85%) samples.\n",
      "Effective window size : 4.000 (s)\n"
     ]
    },
    {
     "name": "stderr",
     "output_type": "stream",
     "text": [
      "C:\\Users\\ilya\\AppData\\Local\\Temp\\ipykernel_7476\\3943036217.py:8: RuntimeWarning: This filename (C:\\Users\\ilya\\Documents\\lab\\coherence\\DATA_for_coherence\\Kanevets_OFF_5_eyes_closed_marked_bip.fif) does not conform to MNE naming conventions. All raw files should end with raw.fif, raw_sss.fif, raw_tsss.fif, _meg.fif, _eeg.fif, _ieeg.fif, raw.fif.gz, raw_sss.fif.gz, raw_tsss.fif.gz, _meg.fif.gz, _eeg.fif.gz or _ieeg.fif.gz\n",
      "  raw = mne.io.read_raw_fif(name, preload=True, verbose=False)\n"
     ]
    },
    {
     "name": "stdout",
     "output_type": "stream",
     "text": [
      "Effective window size : 4.000 (s)\n"
     ]
    },
    {
     "name": "stderr",
     "output_type": "stream",
     "text": [
      "C:\\Users\\ilya\\AppData\\Local\\Temp\\ipykernel_7476\\3943036217.py:8: RuntimeWarning: This filename (C:\\Users\\ilya\\Documents\\lab\\coherence\\DATA_for_coherence\\Kanevets_OFF_5_eyes_opened_marked_bip.fif) does not conform to MNE naming conventions. All raw files should end with raw.fif, raw_sss.fif, raw_tsss.fif, _meg.fif, _eeg.fif, _ieeg.fif, raw.fif.gz, raw_sss.fif.gz, raw_tsss.fif.gz, _meg.fif.gz, _eeg.fif.gz or _ieeg.fif.gz\n",
      "  raw = mne.io.read_raw_fif(name, preload=True, verbose=False)\n"
     ]
    },
    {
     "name": "stdout",
     "output_type": "stream",
     "text": [
      "Effective window size : 4.000 (s)\n"
     ]
    },
    {
     "name": "stderr",
     "output_type": "stream",
     "text": [
      "C:\\Users\\ilya\\AppData\\Local\\Temp\\ipykernel_7476\\3943036217.py:8: RuntimeWarning: This filename (C:\\Users\\ilya\\Documents\\lab\\coherence\\DATA_for_coherence\\Kanevets_ON_1_eyes_closed_marked_bip.fif) does not conform to MNE naming conventions. All raw files should end with raw.fif, raw_sss.fif, raw_tsss.fif, _meg.fif, _eeg.fif, _ieeg.fif, raw.fif.gz, raw_sss.fif.gz, raw_tsss.fif.gz, _meg.fif.gz, _eeg.fif.gz or _ieeg.fif.gz\n",
      "  raw = mne.io.read_raw_fif(name, preload=True, verbose=False)\n"
     ]
    },
    {
     "name": "stdout",
     "output_type": "stream",
     "text": [
      "Setting 1848 of 53346 (3.46%) samples to NaN, retaining 51498 (96.54%) samples.\n",
      "Effective window size : 4.000 (s)\n"
     ]
    },
    {
     "name": "stderr",
     "output_type": "stream",
     "text": [
      "C:\\Users\\ilya\\AppData\\Local\\Temp\\ipykernel_7476\\3943036217.py:8: RuntimeWarning: This filename (C:\\Users\\ilya\\Documents\\lab\\coherence\\DATA_for_coherence\\Kanevets_ON_1_eyes_opened_marked_bip.fif) does not conform to MNE naming conventions. All raw files should end with raw.fif, raw_sss.fif, raw_tsss.fif, _meg.fif, _eeg.fif, _ieeg.fif, raw.fif.gz, raw_sss.fif.gz, raw_tsss.fif.gz, _meg.fif.gz, _eeg.fif.gz or _ieeg.fif.gz\n",
      "  raw = mne.io.read_raw_fif(name, preload=True, verbose=False)\n"
     ]
    },
    {
     "name": "stdout",
     "output_type": "stream",
     "text": [
      "Setting 6624 of 59651 (11.10%) samples to NaN, retaining 53027 (88.90%) samples.\n",
      "Effective window size : 4.000 (s)\n",
      "At least one good data span is shorter than n_per_seg, and will be analyzed with a shorter window than the rest of the file.\n"
     ]
    },
    {
     "name": "stderr",
     "output_type": "stream",
     "text": [
      "C:\\Users\\ilya\\AppData\\Local\\Temp\\ipykernel_7476\\3943036217.py:8: RuntimeWarning: This filename (C:\\Users\\ilya\\Documents\\lab\\coherence\\DATA_for_coherence\\Kanevets_ON_5_eyes_closed_marked_bip.fif) does not conform to MNE naming conventions. All raw files should end with raw.fif, raw_sss.fif, raw_tsss.fif, _meg.fif, _eeg.fif, _ieeg.fif, raw.fif.gz, raw_sss.fif.gz, raw_tsss.fif.gz, _meg.fif.gz, _eeg.fif.gz or _ieeg.fif.gz\n",
      "  raw = mne.io.read_raw_fif(name, preload=True, verbose=False)\n"
     ]
    },
    {
     "name": "stdout",
     "output_type": "stream",
     "text": [
      "Setting 8698 of 58831 (14.78%) samples to NaN, retaining 50133 (85.22%) samples.\n",
      "Effective window size : 4.000 (s)\n",
      "At least one good data span is shorter than n_per_seg, and will be analyzed with a shorter window than the rest of the file.\n"
     ]
    },
    {
     "name": "stderr",
     "output_type": "stream",
     "text": [
      "C:\\Users\\ilya\\AppData\\Local\\Temp\\ipykernel_7476\\3943036217.py:8: RuntimeWarning: This filename (C:\\Users\\ilya\\Documents\\lab\\coherence\\DATA_for_coherence\\Kanevets_ON_5_eyes_opened_marked_bip.fif) does not conform to MNE naming conventions. All raw files should end with raw.fif, raw_sss.fif, raw_tsss.fif, _meg.fif, _eeg.fif, _ieeg.fif, raw.fif.gz, raw_sss.fif.gz, raw_tsss.fif.gz, _meg.fif.gz, _eeg.fif.gz or _ieeg.fif.gz\n",
      "  raw = mne.io.read_raw_fif(name, preload=True, verbose=False)\n"
     ]
    },
    {
     "name": "stdout",
     "output_type": "stream",
     "text": [
      "Setting 8812 of 58381 (15.09%) samples to NaN, retaining 49569 (84.91%) samples.\n",
      "Effective window size : 4.000 (s)\n",
      "At least one good data span is shorter than n_per_seg, and will be analyzed with a shorter window than the rest of the file.\n"
     ]
    },
    {
     "name": "stderr",
     "output_type": "stream",
     "text": [
      "C:\\Users\\ilya\\AppData\\Local\\Temp\\ipykernel_7476\\3943036217.py:8: RuntimeWarning: This filename (C:\\Users\\ilya\\Documents\\lab\\coherence\\DATA_for_coherence\\Konovalov_OFF_1_eyes_not_clear_marked_bip.fif) does not conform to MNE naming conventions. All raw files should end with raw.fif, raw_sss.fif, raw_tsss.fif, _meg.fif, _eeg.fif, _ieeg.fif, raw.fif.gz, raw_sss.fif.gz, raw_tsss.fif.gz, _meg.fif.gz, _eeg.fif.gz or _ieeg.fif.gz\n",
      "  raw = mne.io.read_raw_fif(name, preload=True, verbose=False)\n"
     ]
    },
    {
     "name": "stdout",
     "output_type": "stream",
     "text": [
      "Setting 6764 of 76711 (8.82%) samples to NaN, retaining 69947 (91.18%) samples.\n",
      "Effective window size : 4.000 (s)\n",
      "At least one good data span is shorter than n_per_seg, and will be analyzed with a shorter window than the rest of the file.\n"
     ]
    },
    {
     "name": "stderr",
     "output_type": "stream",
     "text": [
      "C:\\Users\\ilya\\AppData\\Local\\Temp\\ipykernel_7476\\3943036217.py:8: RuntimeWarning: This filename (C:\\Users\\ilya\\Documents\\lab\\coherence\\DATA_for_coherence\\Konovalov_OFF_5_eyes_not_clear_marked_bip.fif) does not conform to MNE naming conventions. All raw files should end with raw.fif, raw_sss.fif, raw_tsss.fif, _meg.fif, _eeg.fif, _ieeg.fif, raw.fif.gz, raw_sss.fif.gz, raw_tsss.fif.gz, _meg.fif.gz, _eeg.fif.gz or _ieeg.fif.gz\n",
      "  raw = mne.io.read_raw_fif(name, preload=True, verbose=False)\n"
     ]
    },
    {
     "name": "stdout",
     "output_type": "stream",
     "text": [
      "Setting 82 of 60311 (0.14%) samples to NaN, retaining 60229 (99.86%) samples.\n",
      "Effective window size : 4.000 (s)\n"
     ]
    },
    {
     "name": "stderr",
     "output_type": "stream",
     "text": [
      "C:\\Users\\ilya\\AppData\\Local\\Temp\\ipykernel_7476\\3943036217.py:8: RuntimeWarning: This filename (C:\\Users\\ilya\\Documents\\lab\\coherence\\DATA_for_coherence\\Konovalov_ON_1_eyes_not_clear_marked_bip.fif) does not conform to MNE naming conventions. All raw files should end with raw.fif, raw_sss.fif, raw_tsss.fif, _meg.fif, _eeg.fif, _ieeg.fif, raw.fif.gz, raw_sss.fif.gz, raw_tsss.fif.gz, _meg.fif.gz, _eeg.fif.gz or _ieeg.fif.gz\n",
      "  raw = mne.io.read_raw_fif(name, preload=True, verbose=False)\n"
     ]
    },
    {
     "name": "stdout",
     "output_type": "stream",
     "text": [
      "Setting 1732 of 76076 (2.28%) samples to NaN, retaining 74344 (97.72%) samples.\n",
      "Effective window size : 4.000 (s)\n",
      "At least one good data span is shorter than n_per_seg, and will be analyzed with a shorter window than the rest of the file.\n"
     ]
    },
    {
     "name": "stderr",
     "output_type": "stream",
     "text": [
      "C:\\Users\\ilya\\AppData\\Local\\Temp\\ipykernel_7476\\3943036217.py:8: RuntimeWarning: This filename (C:\\Users\\ilya\\Documents\\lab\\coherence\\DATA_for_coherence\\Konovalov_ON_5_eyes_not_clear_marked_bip.fif) does not conform to MNE naming conventions. All raw files should end with raw.fif, raw_sss.fif, raw_tsss.fif, _meg.fif, _eeg.fif, _ieeg.fif, raw.fif.gz, raw_sss.fif.gz, raw_tsss.fif.gz, _meg.fif.gz, _eeg.fif.gz or _ieeg.fif.gz\n",
      "  raw = mne.io.read_raw_fif(name, preload=True, verbose=False)\n"
     ]
    },
    {
     "name": "stdout",
     "output_type": "stream",
     "text": [
      "Setting 1002 of 52246 (1.92%) samples to NaN, retaining 51244 (98.08%) samples.\n",
      "Effective window size : 4.000 (s)\n",
      "At least one good data span is shorter than n_per_seg, and will be analyzed with a shorter window than the rest of the file.\n"
     ]
    },
    {
     "name": "stderr",
     "output_type": "stream",
     "text": [
      "C:\\Users\\ilya\\AppData\\Local\\Temp\\ipykernel_7476\\3943036217.py:8: RuntimeWarning: This filename (C:\\Users\\ilya\\Documents\\lab\\coherence\\DATA_for_coherence\\Krasova_OFF_1_eyes_not_clear_marked_bip.fif) does not conform to MNE naming conventions. All raw files should end with raw.fif, raw_sss.fif, raw_tsss.fif, _meg.fif, _eeg.fif, _ieeg.fif, raw.fif.gz, raw_sss.fif.gz, raw_tsss.fif.gz, _meg.fif.gz, _eeg.fif.gz or _ieeg.fif.gz\n",
      "  raw = mne.io.read_raw_fif(name, preload=True, verbose=False)\n"
     ]
    },
    {
     "name": "stdout",
     "output_type": "stream",
     "text": [
      "Setting 1260 of 57911 (2.18%) samples to NaN, retaining 56651 (97.82%) samples.\n",
      "Effective window size : 4.000 (s)\n"
     ]
    },
    {
     "name": "stderr",
     "output_type": "stream",
     "text": [
      "C:\\Users\\ilya\\AppData\\Local\\Temp\\ipykernel_7476\\3943036217.py:8: RuntimeWarning: This filename (C:\\Users\\ilya\\Documents\\lab\\coherence\\DATA_for_coherence\\Krasova_OFF_5_eyes_not_clear_marked_bip.fif) does not conform to MNE naming conventions. All raw files should end with raw.fif, raw_sss.fif, raw_tsss.fif, _meg.fif, _eeg.fif, _ieeg.fif, raw.fif.gz, raw_sss.fif.gz, raw_tsss.fif.gz, _meg.fif.gz, _eeg.fif.gz or _ieeg.fif.gz\n",
      "  raw = mne.io.read_raw_fif(name, preload=True, verbose=False)\n"
     ]
    },
    {
     "name": "stdout",
     "output_type": "stream",
     "text": [
      "Effective window size : 4.000 (s)\n"
     ]
    },
    {
     "name": "stderr",
     "output_type": "stream",
     "text": [
      "C:\\Users\\ilya\\AppData\\Local\\Temp\\ipykernel_7476\\3943036217.py:8: RuntimeWarning: This filename (C:\\Users\\ilya\\Documents\\lab\\coherence\\DATA_for_coherence\\Krasova_ON_1_eyes_not_clear_marked_bip.fif) does not conform to MNE naming conventions. All raw files should end with raw.fif, raw_sss.fif, raw_tsss.fif, _meg.fif, _eeg.fif, _ieeg.fif, raw.fif.gz, raw_sss.fif.gz, raw_tsss.fif.gz, _meg.fif.gz, _eeg.fif.gz or _ieeg.fif.gz\n",
      "  raw = mne.io.read_raw_fif(name, preload=True, verbose=False)\n"
     ]
    },
    {
     "name": "stdout",
     "output_type": "stream",
     "text": [
      "Setting 432 of 58072 (0.74%) samples to NaN, retaining 57640 (99.26%) samples.\n",
      "Effective window size : 4.000 (s)\n"
     ]
    },
    {
     "name": "stderr",
     "output_type": "stream",
     "text": [
      "C:\\Users\\ilya\\AppData\\Local\\Temp\\ipykernel_7476\\3943036217.py:8: RuntimeWarning: This filename (C:\\Users\\ilya\\Documents\\lab\\coherence\\DATA_for_coherence\\Krasova_ON_5_eyes_not_clear_marked_bip.fif) does not conform to MNE naming conventions. All raw files should end with raw.fif, raw_sss.fif, raw_tsss.fif, _meg.fif, _eeg.fif, _ieeg.fif, raw.fif.gz, raw_sss.fif.gz, raw_tsss.fif.gz, _meg.fif.gz, _eeg.fif.gz or _ieeg.fif.gz\n",
      "  raw = mne.io.read_raw_fif(name, preload=True, verbose=False)\n"
     ]
    },
    {
     "name": "stdout",
     "output_type": "stream",
     "text": [
      "Setting 292 of 28800 (1.01%) samples to NaN, retaining 28508 (98.99%) samples.\n",
      "Effective window size : 4.000 (s)\n"
     ]
    },
    {
     "name": "stderr",
     "output_type": "stream",
     "text": [
      "C:\\Users\\ilya\\AppData\\Local\\Temp\\ipykernel_7476\\3943036217.py:8: RuntimeWarning: This filename (C:\\Users\\ilya\\Documents\\lab\\coherence\\DATA_for_coherence\\Kulagina_OFF_1_eyes_closed_marked_bip.fif) does not conform to MNE naming conventions. All raw files should end with raw.fif, raw_sss.fif, raw_tsss.fif, _meg.fif, _eeg.fif, _ieeg.fif, raw.fif.gz, raw_sss.fif.gz, raw_tsss.fif.gz, _meg.fif.gz, _eeg.fif.gz or _ieeg.fif.gz\n",
      "  raw = mne.io.read_raw_fif(name, preload=True, verbose=False)\n"
     ]
    },
    {
     "name": "stdout",
     "output_type": "stream",
     "text": [
      "Effective window size : 4.000 (s)\n"
     ]
    },
    {
     "name": "stderr",
     "output_type": "stream",
     "text": [
      "C:\\Users\\ilya\\AppData\\Local\\Temp\\ipykernel_7476\\3943036217.py:8: RuntimeWarning: This filename (C:\\Users\\ilya\\Documents\\lab\\coherence\\DATA_for_coherence\\Kulagina_OFF_1_eyes_opened_marked_bip.fif) does not conform to MNE naming conventions. All raw files should end with raw.fif, raw_sss.fif, raw_tsss.fif, _meg.fif, _eeg.fif, _ieeg.fif, raw.fif.gz, raw_sss.fif.gz, raw_tsss.fif.gz, _meg.fif.gz, _eeg.fif.gz or _ieeg.fif.gz\n",
      "  raw = mne.io.read_raw_fif(name, preload=True, verbose=False)\n"
     ]
    },
    {
     "name": "stdout",
     "output_type": "stream",
     "text": [
      "Effective window size : 4.000 (s)\n"
     ]
    },
    {
     "name": "stderr",
     "output_type": "stream",
     "text": [
      "C:\\Users\\ilya\\AppData\\Local\\Temp\\ipykernel_7476\\3943036217.py:8: RuntimeWarning: This filename (C:\\Users\\ilya\\Documents\\lab\\coherence\\DATA_for_coherence\\Kulagina_OFF_5_eyes_closed_marked_bip.fif) does not conform to MNE naming conventions. All raw files should end with raw.fif, raw_sss.fif, raw_tsss.fif, _meg.fif, _eeg.fif, _ieeg.fif, raw.fif.gz, raw_sss.fif.gz, raw_tsss.fif.gz, _meg.fif.gz, _eeg.fif.gz or _ieeg.fif.gz\n",
      "  raw = mne.io.read_raw_fif(name, preload=True, verbose=False)\n"
     ]
    },
    {
     "name": "stdout",
     "output_type": "stream",
     "text": [
      "Effective window size : 4.000 (s)\n"
     ]
    },
    {
     "name": "stderr",
     "output_type": "stream",
     "text": [
      "C:\\Users\\ilya\\AppData\\Local\\Temp\\ipykernel_7476\\3943036217.py:8: RuntimeWarning: This filename (C:\\Users\\ilya\\Documents\\lab\\coherence\\DATA_for_coherence\\Kulagina_OFF_5_eyes_opened_marked_bip.fif) does not conform to MNE naming conventions. All raw files should end with raw.fif, raw_sss.fif, raw_tsss.fif, _meg.fif, _eeg.fif, _ieeg.fif, raw.fif.gz, raw_sss.fif.gz, raw_tsss.fif.gz, _meg.fif.gz, _eeg.fif.gz or _ieeg.fif.gz\n",
      "  raw = mne.io.read_raw_fif(name, preload=True, verbose=False)\n"
     ]
    },
    {
     "name": "stdout",
     "output_type": "stream",
     "text": [
      "Setting 92 of 67121 (0.14%) samples to NaN, retaining 67029 (99.86%) samples.\n",
      "Effective window size : 4.000 (s)\n"
     ]
    },
    {
     "name": "stderr",
     "output_type": "stream",
     "text": [
      "C:\\Users\\ilya\\AppData\\Local\\Temp\\ipykernel_7476\\3943036217.py:8: RuntimeWarning: This filename (C:\\Users\\ilya\\Documents\\lab\\coherence\\DATA_for_coherence\\Kulagina_ON_1_eyes_closed_marked_bip.fif) does not conform to MNE naming conventions. All raw files should end with raw.fif, raw_sss.fif, raw_tsss.fif, _meg.fif, _eeg.fif, _ieeg.fif, raw.fif.gz, raw_sss.fif.gz, raw_tsss.fif.gz, _meg.fif.gz, _eeg.fif.gz or _ieeg.fif.gz\n",
      "  raw = mne.io.read_raw_fif(name, preload=True, verbose=False)\n"
     ]
    },
    {
     "name": "stdout",
     "output_type": "stream",
     "text": [
      "Effective window size : 4.000 (s)\n"
     ]
    },
    {
     "name": "stderr",
     "output_type": "stream",
     "text": [
      "C:\\Users\\ilya\\AppData\\Local\\Temp\\ipykernel_7476\\3943036217.py:8: RuntimeWarning: This filename (C:\\Users\\ilya\\Documents\\lab\\coherence\\DATA_for_coherence\\Kulagina_ON_1_eyes_opened_marked_bip.fif) does not conform to MNE naming conventions. All raw files should end with raw.fif, raw_sss.fif, raw_tsss.fif, _meg.fif, _eeg.fif, _ieeg.fif, raw.fif.gz, raw_sss.fif.gz, raw_tsss.fif.gz, _meg.fif.gz, _eeg.fif.gz or _ieeg.fif.gz\n",
      "  raw = mne.io.read_raw_fif(name, preload=True, verbose=False)\n"
     ]
    },
    {
     "name": "stdout",
     "output_type": "stream",
     "text": [
      "Setting 1340 of 73496 (1.82%) samples to NaN, retaining 72156 (98.18%) samples.\n",
      "Effective window size : 4.000 (s)\n"
     ]
    },
    {
     "name": "stderr",
     "output_type": "stream",
     "text": [
      "C:\\Users\\ilya\\AppData\\Local\\Temp\\ipykernel_7476\\3943036217.py:8: RuntimeWarning: This filename (C:\\Users\\ilya\\Documents\\lab\\coherence\\DATA_for_coherence\\Kulagina_ON_5_eyes_closed_marked_bip.fif) does not conform to MNE naming conventions. All raw files should end with raw.fif, raw_sss.fif, raw_tsss.fif, _meg.fif, _eeg.fif, _ieeg.fif, raw.fif.gz, raw_sss.fif.gz, raw_tsss.fif.gz, _meg.fif.gz, _eeg.fif.gz or _ieeg.fif.gz\n",
      "  raw = mne.io.read_raw_fif(name, preload=True, verbose=False)\n"
     ]
    },
    {
     "name": "stdout",
     "output_type": "stream",
     "text": [
      "Setting 184 of 57186 (0.32%) samples to NaN, retaining 57002 (99.68%) samples.\n",
      "Effective window size : 4.000 (s)\n"
     ]
    },
    {
     "name": "stderr",
     "output_type": "stream",
     "text": [
      "C:\\Users\\ilya\\AppData\\Local\\Temp\\ipykernel_7476\\3943036217.py:8: RuntimeWarning: This filename (C:\\Users\\ilya\\Documents\\lab\\coherence\\DATA_for_coherence\\Kulagina_ON_5_eyes_opened_marked_bip.fif) does not conform to MNE naming conventions. All raw files should end with raw.fif, raw_sss.fif, raw_tsss.fif, _meg.fif, _eeg.fif, _ieeg.fif, raw.fif.gz, raw_sss.fif.gz, raw_tsss.fif.gz, _meg.fif.gz, _eeg.fif.gz or _ieeg.fif.gz\n",
      "  raw = mne.io.read_raw_fif(name, preload=True, verbose=False)\n"
     ]
    },
    {
     "name": "stdout",
     "output_type": "stream",
     "text": [
      "Effective window size : 4.000 (s)\n"
     ]
    },
    {
     "name": "stderr",
     "output_type": "stream",
     "text": [
      "C:\\Users\\ilya\\AppData\\Local\\Temp\\ipykernel_7476\\3943036217.py:8: RuntimeWarning: This filename (C:\\Users\\ilya\\Documents\\lab\\coherence\\DATA_for_coherence\\Kuznetsov_OFF_1_eyes_closed_marked_bip.fif) does not conform to MNE naming conventions. All raw files should end with raw.fif, raw_sss.fif, raw_tsss.fif, _meg.fif, _eeg.fif, _ieeg.fif, raw.fif.gz, raw_sss.fif.gz, raw_tsss.fif.gz, _meg.fif.gz, _eeg.fif.gz or _ieeg.fif.gz\n",
      "  raw = mne.io.read_raw_fif(name, preload=True, verbose=False)\n"
     ]
    },
    {
     "name": "stdout",
     "output_type": "stream",
     "text": [
      "Effective window size : 4.000 (s)\n"
     ]
    },
    {
     "name": "stderr",
     "output_type": "stream",
     "text": [
      "C:\\Users\\ilya\\AppData\\Local\\Temp\\ipykernel_7476\\3943036217.py:8: RuntimeWarning: This filename (C:\\Users\\ilya\\Documents\\lab\\coherence\\DATA_for_coherence\\Kuznetsov_OFF_1_eyes_opened_marked_bip.fif) does not conform to MNE naming conventions. All raw files should end with raw.fif, raw_sss.fif, raw_tsss.fif, _meg.fif, _eeg.fif, _ieeg.fif, raw.fif.gz, raw_sss.fif.gz, raw_tsss.fif.gz, _meg.fif.gz, _eeg.fif.gz or _ieeg.fif.gz\n",
      "  raw = mne.io.read_raw_fif(name, preload=True, verbose=False)\n"
     ]
    },
    {
     "name": "stdout",
     "output_type": "stream",
     "text": [
      "Setting 676 of 59356 (1.14%) samples to NaN, retaining 58680 (98.86%) samples.\n",
      "Effective window size : 4.000 (s)\n"
     ]
    },
    {
     "name": "stderr",
     "output_type": "stream",
     "text": [
      "C:\\Users\\ilya\\AppData\\Local\\Temp\\ipykernel_7476\\3943036217.py:8: RuntimeWarning: This filename (C:\\Users\\ilya\\Documents\\lab\\coherence\\DATA_for_coherence\\Kuznetsov_OFF_5_eyes_closed_marked_bip.fif) does not conform to MNE naming conventions. All raw files should end with raw.fif, raw_sss.fif, raw_tsss.fif, _meg.fif, _eeg.fif, _ieeg.fif, raw.fif.gz, raw_sss.fif.gz, raw_tsss.fif.gz, _meg.fif.gz, _eeg.fif.gz or _ieeg.fif.gz\n",
      "  raw = mne.io.read_raw_fif(name, preload=True, verbose=False)\n"
     ]
    },
    {
     "name": "stdout",
     "output_type": "stream",
     "text": [
      "Effective window size : 4.000 (s)\n"
     ]
    },
    {
     "name": "stderr",
     "output_type": "stream",
     "text": [
      "C:\\Users\\ilya\\AppData\\Local\\Temp\\ipykernel_7476\\3943036217.py:8: RuntimeWarning: This filename (C:\\Users\\ilya\\Documents\\lab\\coherence\\DATA_for_coherence\\Kuznetsov_OFF_5_eyes_opened_marked_bip.fif) does not conform to MNE naming conventions. All raw files should end with raw.fif, raw_sss.fif, raw_tsss.fif, _meg.fif, _eeg.fif, _ieeg.fif, raw.fif.gz, raw_sss.fif.gz, raw_tsss.fif.gz, _meg.fif.gz, _eeg.fif.gz or _ieeg.fif.gz\n",
      "  raw = mne.io.read_raw_fif(name, preload=True, verbose=False)\n"
     ]
    },
    {
     "name": "stdout",
     "output_type": "stream",
     "text": [
      "Setting 6604 of 51131 (12.92%) samples to NaN, retaining 44527 (87.08%) samples.\n",
      "Effective window size : 4.000 (s)\n",
      "At least one good data span is shorter than n_per_seg, and will be analyzed with a shorter window than the rest of the file.\n"
     ]
    },
    {
     "name": "stderr",
     "output_type": "stream",
     "text": [
      "C:\\Users\\ilya\\AppData\\Local\\Temp\\ipykernel_7476\\3943036217.py:8: RuntimeWarning: This filename (C:\\Users\\ilya\\Documents\\lab\\coherence\\DATA_for_coherence\\Kuznetsov_ON_1_eyes_closed_marked_bip.fif) does not conform to MNE naming conventions. All raw files should end with raw.fif, raw_sss.fif, raw_tsss.fif, _meg.fif, _eeg.fif, _ieeg.fif, raw.fif.gz, raw_sss.fif.gz, raw_tsss.fif.gz, _meg.fif.gz, _eeg.fif.gz or _ieeg.fif.gz\n",
      "  raw = mne.io.read_raw_fif(name, preload=True, verbose=False)\n"
     ]
    },
    {
     "name": "stdout",
     "output_type": "stream",
     "text": [
      "Effective window size : 4.000 (s)\n"
     ]
    },
    {
     "name": "stderr",
     "output_type": "stream",
     "text": [
      "C:\\Users\\ilya\\AppData\\Local\\Temp\\ipykernel_7476\\3943036217.py:8: RuntimeWarning: This filename (C:\\Users\\ilya\\Documents\\lab\\coherence\\DATA_for_coherence\\Kuznetsov_ON_1_eyes_opened_marked_bip.fif) does not conform to MNE naming conventions. All raw files should end with raw.fif, raw_sss.fif, raw_tsss.fif, _meg.fif, _eeg.fif, _ieeg.fif, raw.fif.gz, raw_sss.fif.gz, raw_tsss.fif.gz, _meg.fif.gz, _eeg.fif.gz or _ieeg.fif.gz\n",
      "  raw = mne.io.read_raw_fif(name, preload=True, verbose=False)\n"
     ]
    },
    {
     "name": "stdout",
     "output_type": "stream",
     "text": [
      "Effective window size : 4.000 (s)\n"
     ]
    },
    {
     "name": "stderr",
     "output_type": "stream",
     "text": [
      "C:\\Users\\ilya\\AppData\\Local\\Temp\\ipykernel_7476\\3943036217.py:8: RuntimeWarning: This filename (C:\\Users\\ilya\\Documents\\lab\\coherence\\DATA_for_coherence\\Kuznetsov_ON_5_eyes_closed_marked_bip.fif) does not conform to MNE naming conventions. All raw files should end with raw.fif, raw_sss.fif, raw_tsss.fif, _meg.fif, _eeg.fif, _ieeg.fif, raw.fif.gz, raw_sss.fif.gz, raw_tsss.fif.gz, _meg.fif.gz, _eeg.fif.gz or _ieeg.fif.gz\n",
      "  raw = mne.io.read_raw_fif(name, preload=True, verbose=False)\n"
     ]
    },
    {
     "name": "stdout",
     "output_type": "stream",
     "text": [
      "Effective window size : 4.000 (s)\n"
     ]
    },
    {
     "name": "stderr",
     "output_type": "stream",
     "text": [
      "C:\\Users\\ilya\\AppData\\Local\\Temp\\ipykernel_7476\\3943036217.py:8: RuntimeWarning: This filename (C:\\Users\\ilya\\Documents\\lab\\coherence\\DATA_for_coherence\\Kuznetsov_ON_5_eyes_opened_marked_bip.fif) does not conform to MNE naming conventions. All raw files should end with raw.fif, raw_sss.fif, raw_tsss.fif, _meg.fif, _eeg.fif, _ieeg.fif, raw.fif.gz, raw_sss.fif.gz, raw_tsss.fif.gz, _meg.fif.gz, _eeg.fif.gz or _ieeg.fif.gz\n",
      "  raw = mne.io.read_raw_fif(name, preload=True, verbose=False)\n"
     ]
    },
    {
     "name": "stdout",
     "output_type": "stream",
     "text": [
      "Setting 1268 of 80826 (1.57%) samples to NaN, retaining 79558 (98.43%) samples.\n",
      "Effective window size : 4.000 (s)\n",
      "At least one good data span is shorter than n_per_seg, and will be analyzed with a shorter window than the rest of the file.\n"
     ]
    },
    {
     "name": "stderr",
     "output_type": "stream",
     "text": [
      "C:\\Users\\ilya\\AppData\\Local\\Temp\\ipykernel_7476\\3943036217.py:8: RuntimeWarning: This filename (C:\\Users\\ilya\\Documents\\lab\\coherence\\DATA_for_coherence\\Otroda_OFF_1_eyes_closed_marked_bip.fif) does not conform to MNE naming conventions. All raw files should end with raw.fif, raw_sss.fif, raw_tsss.fif, _meg.fif, _eeg.fif, _ieeg.fif, raw.fif.gz, raw_sss.fif.gz, raw_tsss.fif.gz, _meg.fif.gz, _eeg.fif.gz or _ieeg.fif.gz\n",
      "  raw = mne.io.read_raw_fif(name, preload=True, verbose=False)\n"
     ]
    },
    {
     "name": "stdout",
     "output_type": "stream",
     "text": [
      "Effective window size : 4.000 (s)\n"
     ]
    },
    {
     "name": "stderr",
     "output_type": "stream",
     "text": [
      "C:\\Users\\ilya\\AppData\\Local\\Temp\\ipykernel_7476\\3943036217.py:8: RuntimeWarning: This filename (C:\\Users\\ilya\\Documents\\lab\\coherence\\DATA_for_coherence\\Otroda_OFF_1_eyes_opened_marked_bip.fif) does not conform to MNE naming conventions. All raw files should end with raw.fif, raw_sss.fif, raw_tsss.fif, _meg.fif, _eeg.fif, _ieeg.fif, raw.fif.gz, raw_sss.fif.gz, raw_tsss.fif.gz, _meg.fif.gz, _eeg.fif.gz or _ieeg.fif.gz\n",
      "  raw = mne.io.read_raw_fif(name, preload=True, verbose=False)\n"
     ]
    },
    {
     "name": "stdout",
     "output_type": "stream",
     "text": [
      "Setting 3652 of 65231 (5.60%) samples to NaN, retaining 61579 (94.40%) samples.\n",
      "Effective window size : 4.000 (s)\n",
      "At least one good data span is shorter than n_per_seg, and will be analyzed with a shorter window than the rest of the file.\n"
     ]
    },
    {
     "name": "stderr",
     "output_type": "stream",
     "text": [
      "C:\\Users\\ilya\\AppData\\Local\\Temp\\ipykernel_7476\\3943036217.py:8: RuntimeWarning: This filename (C:\\Users\\ilya\\Documents\\lab\\coherence\\DATA_for_coherence\\Otroda_ON_1_eyes_closed_marked_bip.fif) does not conform to MNE naming conventions. All raw files should end with raw.fif, raw_sss.fif, raw_tsss.fif, _meg.fif, _eeg.fif, _ieeg.fif, raw.fif.gz, raw_sss.fif.gz, raw_tsss.fif.gz, _meg.fif.gz, _eeg.fif.gz or _ieeg.fif.gz\n",
      "  raw = mne.io.read_raw_fif(name, preload=True, verbose=False)\n"
     ]
    },
    {
     "name": "stdout",
     "output_type": "stream",
     "text": [
      "Setting 4756 of 47680 (9.97%) samples to NaN, retaining 42924 (90.03%) samples.\n",
      "Effective window size : 4.000 (s)\n",
      "At least one good data span is shorter than n_per_seg, and will be analyzed with a shorter window than the rest of the file.\n"
     ]
    },
    {
     "name": "stderr",
     "output_type": "stream",
     "text": [
      "C:\\Users\\ilya\\AppData\\Local\\Temp\\ipykernel_7476\\3943036217.py:8: RuntimeWarning: This filename (C:\\Users\\ilya\\Documents\\lab\\coherence\\DATA_for_coherence\\Otroda_ON_1_eyes_opened_marked_bip.fif) does not conform to MNE naming conventions. All raw files should end with raw.fif, raw_sss.fif, raw_tsss.fif, _meg.fif, _eeg.fif, _ieeg.fif, raw.fif.gz, raw_sss.fif.gz, raw_tsss.fif.gz, _meg.fif.gz, _eeg.fif.gz or _ieeg.fif.gz\n",
      "  raw = mne.io.read_raw_fif(name, preload=True, verbose=False)\n"
     ]
    },
    {
     "name": "stdout",
     "output_type": "stream",
     "text": [
      "Setting 7946 of 53646 (14.81%) samples to NaN, retaining 45700 (85.19%) samples.\n",
      "Effective window size : 4.000 (s)\n",
      "At least one good data span is shorter than n_per_seg, and will be analyzed with a shorter window than the rest of the file.\n"
     ]
    },
    {
     "name": "stderr",
     "output_type": "stream",
     "text": [
      "C:\\Users\\ilya\\AppData\\Local\\Temp\\ipykernel_7476\\3943036217.py:8: RuntimeWarning: This filename (C:\\Users\\ilya\\Documents\\lab\\coherence\\DATA_for_coherence\\Suhih_OFF_1_eyes_closed_marked_bip.fif) does not conform to MNE naming conventions. All raw files should end with raw.fif, raw_sss.fif, raw_tsss.fif, _meg.fif, _eeg.fif, _ieeg.fif, raw.fif.gz, raw_sss.fif.gz, raw_tsss.fif.gz, _meg.fif.gz, _eeg.fif.gz or _ieeg.fif.gz\n",
      "  raw = mne.io.read_raw_fif(name, preload=True, verbose=False)\n"
     ]
    },
    {
     "name": "stdout",
     "output_type": "stream",
     "text": [
      "Setting 136 of 69326 (0.20%) samples to NaN, retaining 69190 (99.80%) samples.\n",
      "Effective window size : 4.000 (s)\n",
      "At least one good data span is shorter than n_per_seg, and will be analyzed with a shorter window than the rest of the file.\n"
     ]
    },
    {
     "name": "stderr",
     "output_type": "stream",
     "text": [
      "C:\\Users\\ilya\\AppData\\Local\\Temp\\ipykernel_7476\\3943036217.py:8: RuntimeWarning: This filename (C:\\Users\\ilya\\Documents\\lab\\coherence\\DATA_for_coherence\\Suhih_OFF_1_eyes_opened_marked_bip.fif) does not conform to MNE naming conventions. All raw files should end with raw.fif, raw_sss.fif, raw_tsss.fif, _meg.fif, _eeg.fif, _ieeg.fif, raw.fif.gz, raw_sss.fif.gz, raw_tsss.fif.gz, _meg.fif.gz, _eeg.fif.gz or _ieeg.fif.gz\n",
      "  raw = mne.io.read_raw_fif(name, preload=True, verbose=False)\n"
     ]
    },
    {
     "name": "stdout",
     "output_type": "stream",
     "text": [
      "Setting 802 of 66231 (1.21%) samples to NaN, retaining 65429 (98.79%) samples.\n",
      "Effective window size : 4.000 (s)\n"
     ]
    },
    {
     "name": "stderr",
     "output_type": "stream",
     "text": [
      "C:\\Users\\ilya\\AppData\\Local\\Temp\\ipykernel_7476\\3943036217.py:8: RuntimeWarning: This filename (C:\\Users\\ilya\\Documents\\lab\\coherence\\DATA_for_coherence\\Suhih_OFF_5_eyes_closed_marked_bip.fif) does not conform to MNE naming conventions. All raw files should end with raw.fif, raw_sss.fif, raw_tsss.fif, _meg.fif, _eeg.fif, _ieeg.fif, raw.fif.gz, raw_sss.fif.gz, raw_tsss.fif.gz, _meg.fif.gz, _eeg.fif.gz or _ieeg.fif.gz\n",
      "  raw = mne.io.read_raw_fif(name, preload=True, verbose=False)\n"
     ]
    },
    {
     "name": "stdout",
     "output_type": "stream",
     "text": [
      "Effective window size : 4.000 (s)\n"
     ]
    },
    {
     "name": "stderr",
     "output_type": "stream",
     "text": [
      "C:\\Users\\ilya\\AppData\\Local\\Temp\\ipykernel_7476\\3943036217.py:8: RuntimeWarning: This filename (C:\\Users\\ilya\\Documents\\lab\\coherence\\DATA_for_coherence\\Suhih_OFF_5_eyes_opened_marked_bip.fif) does not conform to MNE naming conventions. All raw files should end with raw.fif, raw_sss.fif, raw_tsss.fif, _meg.fif, _eeg.fif, _ieeg.fif, raw.fif.gz, raw_sss.fif.gz, raw_tsss.fif.gz, _meg.fif.gz, _eeg.fif.gz or _ieeg.fif.gz\n",
      "  raw = mne.io.read_raw_fif(name, preload=True, verbose=False)\n"
     ]
    },
    {
     "name": "stdout",
     "output_type": "stream",
     "text": [
      "Effective window size : 4.000 (s)\n"
     ]
    },
    {
     "name": "stderr",
     "output_type": "stream",
     "text": [
      "C:\\Users\\ilya\\AppData\\Local\\Temp\\ipykernel_7476\\3943036217.py:8: RuntimeWarning: This filename (C:\\Users\\ilya\\Documents\\lab\\coherence\\DATA_for_coherence\\Suhih_ON_1_eyes_closed_marked_bip.fif) does not conform to MNE naming conventions. All raw files should end with raw.fif, raw_sss.fif, raw_tsss.fif, _meg.fif, _eeg.fif, _ieeg.fif, raw.fif.gz, raw_sss.fif.gz, raw_tsss.fif.gz, _meg.fif.gz, _eeg.fif.gz or _ieeg.fif.gz\n",
      "  raw = mne.io.read_raw_fif(name, preload=True, verbose=False)\n"
     ]
    },
    {
     "name": "stdout",
     "output_type": "stream",
     "text": [
      "Effective window size : 4.000 (s)\n"
     ]
    },
    {
     "name": "stderr",
     "output_type": "stream",
     "text": [
      "C:\\Users\\ilya\\AppData\\Local\\Temp\\ipykernel_7476\\3943036217.py:8: RuntimeWarning: This filename (C:\\Users\\ilya\\Documents\\lab\\coherence\\DATA_for_coherence\\Suhih_ON_1_eyes_opened_marked_bip.fif) does not conform to MNE naming conventions. All raw files should end with raw.fif, raw_sss.fif, raw_tsss.fif, _meg.fif, _eeg.fif, _ieeg.fif, raw.fif.gz, raw_sss.fif.gz, raw_tsss.fif.gz, _meg.fif.gz, _eeg.fif.gz or _ieeg.fif.gz\n",
      "  raw = mne.io.read_raw_fif(name, preload=True, verbose=False)\n"
     ]
    },
    {
     "name": "stdout",
     "output_type": "stream",
     "text": [
      "Setting 248 of 61111 (0.41%) samples to NaN, retaining 60863 (99.59%) samples.\n",
      "Effective window size : 4.000 (s)\n"
     ]
    },
    {
     "name": "stderr",
     "output_type": "stream",
     "text": [
      "C:\\Users\\ilya\\AppData\\Local\\Temp\\ipykernel_7476\\3943036217.py:8: RuntimeWarning: This filename (C:\\Users\\ilya\\Documents\\lab\\coherence\\DATA_for_coherence\\Suhih_ON_5_eyes_closed_marked_bip.fif) does not conform to MNE naming conventions. All raw files should end with raw.fif, raw_sss.fif, raw_tsss.fif, _meg.fif, _eeg.fif, _ieeg.fif, raw.fif.gz, raw_sss.fif.gz, raw_tsss.fif.gz, _meg.fif.gz, _eeg.fif.gz or _ieeg.fif.gz\n",
      "  raw = mne.io.read_raw_fif(name, preload=True, verbose=False)\n"
     ]
    },
    {
     "name": "stdout",
     "output_type": "stream",
     "text": [
      "Effective window size : 4.000 (s)\n"
     ]
    },
    {
     "name": "stderr",
     "output_type": "stream",
     "text": [
      "C:\\Users\\ilya\\AppData\\Local\\Temp\\ipykernel_7476\\3943036217.py:8: RuntimeWarning: This filename (C:\\Users\\ilya\\Documents\\lab\\coherence\\DATA_for_coherence\\Suhih_ON_5_eyes_opened_marked_bip.fif) does not conform to MNE naming conventions. All raw files should end with raw.fif, raw_sss.fif, raw_tsss.fif, _meg.fif, _eeg.fif, _ieeg.fif, raw.fif.gz, raw_sss.fif.gz, raw_tsss.fif.gz, _meg.fif.gz, _eeg.fif.gz or _ieeg.fif.gz\n",
      "  raw = mne.io.read_raw_fif(name, preload=True, verbose=False)\n"
     ]
    },
    {
     "name": "stdout",
     "output_type": "stream",
     "text": [
      "Setting 126 of 40656 (0.31%) samples to NaN, retaining 40530 (99.69%) samples.\n",
      "Effective window size : 4.000 (s)\n"
     ]
    },
    {
     "name": "stderr",
     "output_type": "stream",
     "text": [
      "C:\\Users\\ilya\\AppData\\Local\\Temp\\ipykernel_7476\\3943036217.py:8: RuntimeWarning: This filename (C:\\Users\\ilya\\Documents\\lab\\coherence\\DATA_for_coherence\\Vladimirova_OFF_1_eyes_closed_marked_bip.fif) does not conform to MNE naming conventions. All raw files should end with raw.fif, raw_sss.fif, raw_tsss.fif, _meg.fif, _eeg.fif, _ieeg.fif, raw.fif.gz, raw_sss.fif.gz, raw_tsss.fif.gz, _meg.fif.gz, _eeg.fif.gz or _ieeg.fif.gz\n",
      "  raw = mne.io.read_raw_fif(name, preload=True, verbose=False)\n"
     ]
    },
    {
     "name": "stdout",
     "output_type": "stream",
     "text": [
      "Setting 848 of 89121 (0.95%) samples to NaN, retaining 88273 (99.05%) samples.\n",
      "Effective window size : 4.000 (s)\n",
      "At least one good data span is shorter than n_per_seg, and will be analyzed with a shorter window than the rest of the file.\n"
     ]
    },
    {
     "name": "stderr",
     "output_type": "stream",
     "text": [
      "C:\\Users\\ilya\\AppData\\Local\\Temp\\ipykernel_7476\\3943036217.py:8: RuntimeWarning: This filename (C:\\Users\\ilya\\Documents\\lab\\coherence\\DATA_for_coherence\\Vladimirova_OFF_1_eyes_opened_marked_bip.fif) does not conform to MNE naming conventions. All raw files should end with raw.fif, raw_sss.fif, raw_tsss.fif, _meg.fif, _eeg.fif, _ieeg.fif, raw.fif.gz, raw_sss.fif.gz, raw_tsss.fif.gz, _meg.fif.gz, _eeg.fif.gz or _ieeg.fif.gz\n",
      "  raw = mne.io.read_raw_fif(name, preload=True, verbose=False)\n"
     ]
    },
    {
     "name": "stdout",
     "output_type": "stream",
     "text": [
      "Setting 398 of 83456 (0.48%) samples to NaN, retaining 83058 (99.52%) samples.\n",
      "Effective window size : 4.000 (s)\n",
      "At least one good data span is shorter than n_per_seg, and will be analyzed with a shorter window than the rest of the file.\n"
     ]
    },
    {
     "name": "stderr",
     "output_type": "stream",
     "text": [
      "C:\\Users\\ilya\\AppData\\Local\\Temp\\ipykernel_7476\\3943036217.py:8: RuntimeWarning: This filename (C:\\Users\\ilya\\Documents\\lab\\coherence\\DATA_for_coherence\\Vladimirova_OFF_5_eyes_closed_marked_bip.fif) does not conform to MNE naming conventions. All raw files should end with raw.fif, raw_sss.fif, raw_tsss.fif, _meg.fif, _eeg.fif, _ieeg.fif, raw.fif.gz, raw_sss.fif.gz, raw_tsss.fif.gz, _meg.fif.gz, _eeg.fif.gz or _ieeg.fif.gz\n",
      "  raw = mne.io.read_raw_fif(name, preload=True, verbose=False)\n"
     ]
    },
    {
     "name": "stdout",
     "output_type": "stream",
     "text": [
      "Setting 15658 of 85146 (18.39%) samples to NaN, retaining 69488 (81.61%) samples.\n",
      "Effective window size : 4.000 (s)\n"
     ]
    },
    {
     "name": "stderr",
     "output_type": "stream",
     "text": [
      "C:\\Users\\ilya\\AppData\\Local\\Temp\\ipykernel_7476\\3943036217.py:8: RuntimeWarning: This filename (C:\\Users\\ilya\\Documents\\lab\\coherence\\DATA_for_coherence\\Vladimirova_OFF_5_eyes_opened_marked_bip.fif) does not conform to MNE naming conventions. All raw files should end with raw.fif, raw_sss.fif, raw_tsss.fif, _meg.fif, _eeg.fif, _ieeg.fif, raw.fif.gz, raw_sss.fif.gz, raw_tsss.fif.gz, _meg.fif.gz, _eeg.fif.gz or _ieeg.fif.gz\n",
      "  raw = mne.io.read_raw_fif(name, preload=True, verbose=False)\n"
     ]
    },
    {
     "name": "stdout",
     "output_type": "stream",
     "text": [
      "Setting 12810 of 72756 (17.61%) samples to NaN, retaining 59946 (82.39%) samples.\n",
      "Effective window size : 4.000 (s)\n",
      "At least one good data span is shorter than n_per_seg, and will be analyzed with a shorter window than the rest of the file.\n"
     ]
    },
    {
     "name": "stderr",
     "output_type": "stream",
     "text": [
      "C:\\Users\\ilya\\AppData\\Local\\Temp\\ipykernel_7476\\3943036217.py:8: RuntimeWarning: This filename (C:\\Users\\ilya\\Documents\\lab\\coherence\\DATA_for_coherence\\Vladimirova_ON_1_eyes_closed_marked_bip.fif) does not conform to MNE naming conventions. All raw files should end with raw.fif, raw_sss.fif, raw_tsss.fif, _meg.fif, _eeg.fif, _ieeg.fif, raw.fif.gz, raw_sss.fif.gz, raw_tsss.fif.gz, _meg.fif.gz, _eeg.fif.gz or _ieeg.fif.gz\n",
      "  raw = mne.io.read_raw_fif(name, preload=True, verbose=False)\n"
     ]
    },
    {
     "name": "stdout",
     "output_type": "stream",
     "text": [
      "Setting 15734 of 95036 (16.56%) samples to NaN, retaining 79302 (83.44%) samples.\n",
      "Effective window size : 4.000 (s)\n",
      "At least one good data span is shorter than n_per_seg, and will be analyzed with a shorter window than the rest of the file.\n"
     ]
    },
    {
     "name": "stderr",
     "output_type": "stream",
     "text": [
      "C:\\Users\\ilya\\AppData\\Local\\Temp\\ipykernel_7476\\3943036217.py:8: RuntimeWarning: This filename (C:\\Users\\ilya\\Documents\\lab\\coherence\\DATA_for_coherence\\Vladimirova_ON_1_eyes_opened_marked_bip.fif) does not conform to MNE naming conventions. All raw files should end with raw.fif, raw_sss.fif, raw_tsss.fif, _meg.fif, _eeg.fif, _ieeg.fif, raw.fif.gz, raw_sss.fif.gz, raw_tsss.fif.gz, _meg.fif.gz, _eeg.fif.gz or _ieeg.fif.gz\n",
      "  raw = mne.io.read_raw_fif(name, preload=True, verbose=False)\n"
     ]
    },
    {
     "name": "stdout",
     "output_type": "stream",
     "text": [
      "Setting 28826 of 68911 (41.83%) samples to NaN, retaining 40085 (58.17%) samples.\n",
      "Effective window size : 4.000 (s)\n",
      "At least one good data span is shorter than n_per_seg, and will be analyzed with a shorter window than the rest of the file.\n"
     ]
    },
    {
     "name": "stderr",
     "output_type": "stream",
     "text": [
      "C:\\Users\\ilya\\AppData\\Local\\Temp\\ipykernel_7476\\3943036217.py:8: RuntimeWarning: This filename (C:\\Users\\ilya\\Documents\\lab\\coherence\\DATA_for_coherence\\Vladimirova_ON_5_eyes_closed_marked_bip.fif) does not conform to MNE naming conventions. All raw files should end with raw.fif, raw_sss.fif, raw_tsss.fif, _meg.fif, _eeg.fif, _ieeg.fif, raw.fif.gz, raw_sss.fif.gz, raw_tsss.fif.gz, _meg.fif.gz, _eeg.fif.gz or _ieeg.fif.gz\n",
      "  raw = mne.io.read_raw_fif(name, preload=True, verbose=False)\n"
     ]
    },
    {
     "name": "stdout",
     "output_type": "stream",
     "text": [
      "Setting 1724 of 64966 (2.65%) samples to NaN, retaining 63242 (97.35%) samples.\n",
      "Effective window size : 4.000 (s)\n"
     ]
    },
    {
     "name": "stderr",
     "output_type": "stream",
     "text": [
      "C:\\Users\\ilya\\AppData\\Local\\Temp\\ipykernel_7476\\3943036217.py:8: RuntimeWarning: This filename (C:\\Users\\ilya\\Documents\\lab\\coherence\\DATA_for_coherence\\Vladimirova_ON_5_eyes_opened_marked_bip.fif) does not conform to MNE naming conventions. All raw files should end with raw.fif, raw_sss.fif, raw_tsss.fif, _meg.fif, _eeg.fif, _ieeg.fif, raw.fif.gz, raw_sss.fif.gz, raw_tsss.fif.gz, _meg.fif.gz, _eeg.fif.gz or _ieeg.fif.gz\n",
      "  raw = mne.io.read_raw_fif(name, preload=True, verbose=False)\n"
     ]
    },
    {
     "name": "stdout",
     "output_type": "stream",
     "text": [
      "Setting 22240 of 64621 (34.42%) samples to NaN, retaining 42381 (65.58%) samples.\n",
      "Effective window size : 4.000 (s)\n",
      "At least one good data span is shorter than n_per_seg, and will be analyzed with a shorter window than the rest of the file.\n"
     ]
    },
    {
     "name": "stderr",
     "output_type": "stream",
     "text": [
      "C:\\Users\\ilya\\AppData\\Local\\Temp\\ipykernel_7476\\3943036217.py:8: RuntimeWarning: This filename (C:\\Users\\ilya\\Documents\\lab\\coherence\\DATA_for_coherence\\Akhmetshin_OFF_1_eyes_closed_marked_bip.fif) does not conform to MNE naming conventions. All raw files should end with raw.fif, raw_sss.fif, raw_tsss.fif, _meg.fif, _eeg.fif, _ieeg.fif, raw.fif.gz, raw_sss.fif.gz, raw_tsss.fif.gz, _meg.fif.gz, _eeg.fif.gz or _ieeg.fif.gz\n",
      "  raw = mne.io.read_raw_fif(name, preload=True, verbose=False)\n"
     ]
    },
    {
     "name": "stdout",
     "output_type": "stream",
     "text": [
      "Effective window size : 4.000 (s)\n"
     ]
    },
    {
     "name": "stderr",
     "output_type": "stream",
     "text": [
      "C:\\Users\\ilya\\AppData\\Local\\Temp\\ipykernel_7476\\3943036217.py:8: RuntimeWarning: This filename (C:\\Users\\ilya\\Documents\\lab\\coherence\\DATA_for_coherence\\Akhmetshin_OFF_1_eyes_opened_marked_bip.fif) does not conform to MNE naming conventions. All raw files should end with raw.fif, raw_sss.fif, raw_tsss.fif, _meg.fif, _eeg.fif, _ieeg.fif, raw.fif.gz, raw_sss.fif.gz, raw_tsss.fif.gz, _meg.fif.gz, _eeg.fif.gz or _ieeg.fif.gz\n",
      "  raw = mne.io.read_raw_fif(name, preload=True, verbose=False)\n"
     ]
    },
    {
     "name": "stdout",
     "output_type": "stream",
     "text": [
      "Setting 638 of 58526 (1.09%) samples to NaN, retaining 57888 (98.91%) samples.\n",
      "Effective window size : 4.000 (s)\n",
      "At least one good data span is shorter than n_per_seg, and will be analyzed with a shorter window than the rest of the file.\n"
     ]
    },
    {
     "name": "stderr",
     "output_type": "stream",
     "text": [
      "C:\\Users\\ilya\\AppData\\Local\\Temp\\ipykernel_7476\\3943036217.py:8: RuntimeWarning: This filename (C:\\Users\\ilya\\Documents\\lab\\coherence\\DATA_for_coherence\\Akhmetshin_OFF_5_eyes_closed_marked_bip.fif) does not conform to MNE naming conventions. All raw files should end with raw.fif, raw_sss.fif, raw_tsss.fif, _meg.fif, _eeg.fif, _ieeg.fif, raw.fif.gz, raw_sss.fif.gz, raw_tsss.fif.gz, _meg.fif.gz, _eeg.fif.gz or _ieeg.fif.gz\n",
      "  raw = mne.io.read_raw_fif(name, preload=True, verbose=False)\n"
     ]
    },
    {
     "name": "stdout",
     "output_type": "stream",
     "text": [
      "Setting 2398 of 42551 (5.64%) samples to NaN, retaining 40153 (94.36%) samples.\n",
      "Effective window size : 4.000 (s)\n",
      "At least one good data span is shorter than n_per_seg, and will be analyzed with a shorter window than the rest of the file.\n"
     ]
    },
    {
     "name": "stderr",
     "output_type": "stream",
     "text": [
      "C:\\Users\\ilya\\AppData\\Local\\Temp\\ipykernel_7476\\3943036217.py:8: RuntimeWarning: This filename (C:\\Users\\ilya\\Documents\\lab\\coherence\\DATA_for_coherence\\Akhmetshin_OFF_5_eyes_opened_marked_bip.fif) does not conform to MNE naming conventions. All raw files should end with raw.fif, raw_sss.fif, raw_tsss.fif, _meg.fif, _eeg.fif, _ieeg.fif, raw.fif.gz, raw_sss.fif.gz, raw_tsss.fif.gz, _meg.fif.gz, _eeg.fif.gz or _ieeg.fif.gz\n",
      "  raw = mne.io.read_raw_fif(name, preload=True, verbose=False)\n"
     ]
    },
    {
     "name": "stdout",
     "output_type": "stream",
     "text": [
      "Effective window size : 4.000 (s)\n"
     ]
    }
   ],
   "source": [
    "with open(RAW_DATA_PATH / 'names.txt', 'r') as file:\n",
    "    \n",
    "    for line in file:\n",
    "        file_path = line.strip().strip('\"')\n",
    "        record = '_'.join(Path(file_path).name.split('_')[:5])\n",
    "\n",
    "        raw = mne.io.read_raw_fif(file_path, preload=True, verbose=False)\n",
    "        waste_channels = list(set(raw.ch_names).symmetric_difference(set(NECESSARY_CHANNELS)))\n",
    "        raw.drop_channels(waste_channels, on_missing='ignore')\n",
    "\n",
    "        raw.notch_filter(\n",
    "            freqs=50,\n",
    "            filter_length='10s',\n",
    "            notch_widths=4,\n",
    "            trans_bandwidth=2.0,\n",
    "            verbose=False\n",
    "        )\n",
    "        raw.resample(sfreq=SFREQ, verbose=False)\n",
    "\n",
    "        df = pd.DataFrame(raw.get_data().T, columns=raw.ch_names)\n",
    "\n",
    "        for average_channel, group in AVERAGING_GROUPS.items():\n",
    "            df[average_channel] = df[group].mean(axis=1)\n",
    "            df.drop(group, inplace=True, axis=1)\n",
    "\n",
    "        for motor_channel in DIFFERENTIAL_MOTOR_CHANNELS:\n",
    "            ch1, ch2 = motor_channel.split('-')\n",
    "            if ch1 in df.columns and ch2 in df.columns:\n",
    "                df[motor_channel] = df[ch1] - df[ch2]\n",
    "\n",
    "        data_filename = 'df_' + record + '.csv'\n",
    "\n",
    "        # Все комментарии в этом коде используются лишь, если нам нужно заново быстро пересчитать\n",
    "        # определенные значения, без существенного увеличения времени работы блока кода\n",
    "        \n",
    "        #if not (new_data / data_filename).exists():  # Нужно сделать табуляцию\n",
    "            \n",
    "        df.to_csv(new_data / data_filename, index=False)\n",
    "\n",
    "        psd = raw.compute_psd(\n",
    "            method='welch',\n",
    "            fmin=FMIN,\n",
    "            fmax=FMAX,\n",
    "            average='mean',\n",
    "            n_fft=SFREQ*4\n",
    "        )\n",
    "        psd = psd.to_data_frame()\n",
    "        \n",
    "        psd_filename = 'psd_' + record + '.csv'\n",
    "        psd.to_csv(new_psd / psd_filename, index=False)\n",
    "        \n",
    "        for motor in DIFFERENTIAL_MOTOR_CHANNELS:\n",
    "            for stn in STN_CHANNELS:\n",
    "                \n",
    "                if motor in df.columns and stn in df.columns:\n",
    "                    conn = compute_coherence(df, motor, stn)\n",
    "                    \n",
    "                    if conn is not None:\n",
    "                        coh_filename = 'coh_' + record + '_' + motor + '_' + stn + '.csv'\n",
    "                        coh = pd.DataFrame(conn.get_data().squeeze()[2], columns=['coher'])\n",
    "\n",
    "                        coh.to_csv(new_coher / coh_filename, index=False)\n",
    "        #else:\n",
    "         #   continue\n",
    "        \n",
    "        del raw, df\n",
    "        gc.collect()"
   ]
  },
  {
   "cell_type": "code",
   "execution_count": null,
   "id": "14bcf44d-aeef-4875-b451-04ace7a4207d",
   "metadata": {},
   "outputs": [],
   "source": []
  },
  {
   "cell_type": "code",
   "execution_count": null,
   "id": "20930247-e76e-4607-8df5-e26e246e1f21",
   "metadata": {},
   "outputs": [],
   "source": []
  }
 ],
 "metadata": {
  "kernelspec": {
   "display_name": "Python 3 (ipykernel)",
   "language": "python",
   "name": "python3"
  },
  "language_info": {
   "codemirror_mode": {
    "name": "ipython",
    "version": 3
   },
   "file_extension": ".py",
   "mimetype": "text/x-python",
   "name": "python",
   "nbconvert_exporter": "python",
   "pygments_lexer": "ipython3",
   "version": "3.11.3"
  }
 },
 "nbformat": 4,
 "nbformat_minor": 5
}
